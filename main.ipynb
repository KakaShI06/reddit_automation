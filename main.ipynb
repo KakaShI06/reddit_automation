{
 "cells": [
  {
   "cell_type": "code",
   "execution_count": 1,
   "metadata": {},
   "outputs": [
    {
     "data": {
      "text/plain": [
       "True"
      ]
     },
     "execution_count": 1,
     "metadata": {},
     "output_type": "execute_result"
    }
   ],
   "source": [
    "import praw\n",
    "import os\n",
    "from dotenv import load_dotenv\n",
    "\n",
    "# Load environment variables from .env file\n",
    "load_dotenv('.env')"
   ]
  },
  {
   "cell_type": "code",
   "execution_count": 2,
   "metadata": {},
   "outputs": [],
   "source": [
    "# Access and use the environment variables\n",
    "SECRET_KEY = os.getenv(\"SECRET_KEY\")\n",
    "USER_AGENT = os.getenv(\"USER_AGENT\")\n",
    "CLIENT_ID = os.getenv(\"CLIENT_ID\")"
   ]
  },
  {
   "cell_type": "code",
   "execution_count": 3,
   "metadata": {},
   "outputs": [
    {
     "name": "stdout",
     "output_type": "stream",
     "text": [
      "True\n"
     ]
    }
   ],
   "source": [
    "#Initializing reddit instance\n",
    "\n",
    "reddit = praw.Reddit(\n",
    "    client_id=CLIENT_ID,\n",
    "    client_secret=SECRET_KEY,\n",
    "    user_agent=USER_AGENT,\n",
    ")\n",
    "\n",
    "print(reddit.read_only)"
   ]
  },
  {
   "cell_type": "code",
   "execution_count": 4,
   "metadata": {},
   "outputs": [],
   "source": [
    "redditPost = reddit.subreddit(\"askreddit\")\n",
    "top_posts = redditPost.top(limit=10, time_filter=\"day\")"
   ]
  },
  {
   "cell_type": "code",
   "execution_count": 5,
   "metadata": {},
   "outputs": [],
   "source": [
    "def getCommentForPost(comments):\n",
    "    commentList = []\n",
    "\n",
    "    for comment in comments:\n",
    "        if ( len(commentList) > 5 ):\n",
    "            break\n",
    "\n",
    "        if ( len(comment.body) < 10 or len(comment.body) > 200 ):\n",
    "            continue\n",
    "        \n",
    "        comment_dic = {\n",
    "            'id': comment.id,\n",
    "            'text': comment.body\n",
    "        }\n",
    "\n",
    "        commentList.append(comment_dic)\n",
    "\n",
    "    return commentList\n"
   ]
  },
  {
   "cell_type": "code",
   "execution_count": 6,
   "metadata": {},
   "outputs": [],
   "source": [
    "# Convert individual posts to dictionaries\n",
    "post_list = []\n",
    "for post in top_posts:\n",
    "    if post.over_18:\n",
    "        continue\n",
    "\n",
    "    post_dict = {\n",
    "        'title': post.title,\n",
    "        'score': post.score,\n",
    "        'url': post.url,\n",
    "        'id': post.id,\n",
    "        'comments': getCommentForPost(post.comments)\n",
    "        # Include other desired fields here\n",
    "    }\n",
    "    post_list.append(post_dict)\n",
    "\n",
    "# Convert the list of posts to JSON format"
   ]
  },
  {
   "cell_type": "code",
   "execution_count": 7,
   "metadata": {},
   "outputs": [
    {
     "name": "stdout",
     "output_type": "stream",
     "text": [
      "[{'title': 'What’s hard for you to resist if you see it on a restaurant menu?', 'score': 12005, 'url': 'https://www.reddit.com/r/AskReddit/comments/14v2hfs/whats_hard_for_you_to_resist_if_you_see_it_on_a/', 'id': '14v2hfs', 'comments': [{'id': 'jrb6y0o', 'text': 'An appetizer sampler platter.  I love apps but don’t want just one.'}, {'id': 'jratc45', 'text': 'A French dip sandwich'}, {'id': 'jrav2ho', 'text': 'Crab rangoons and enchiladas'}, {'id': 'jravk93', 'text': 'Eggs Benedict at a breakfast/brunch place.'}, {'id': 'jrassdx', 'text': 'Tiramisu, creme brûlée, tacos Al pastor, jalapeño poppers'}, {'id': 'jrb376s', 'text': 'Bread pudding especially at a place in Virginia Beach that make it out of sweet potato biscuits from the day before.'}]}, {'title': 'What’s something that you think is a waste of money but no one else does seems to think so?', 'score': 2180, 'url': 'https://www.reddit.com/r/AskReddit/comments/14v3lil/whats_something_that_you_think_is_a_waste_of/', 'id': '14v3lil', 'comments': [{'id': 'jraokth', 'text': 'Due to recent inflation a lot of fast food. The lines never end.'}, {'id': 'jrarwbb', 'text': \"***this*** years new phone.\\n\\n\\nwhat's wrong with the one you got last year?\"}, {'id': 'jraobr2', 'text': 'Huge pickup trucks for people who never have to haul anything bigger than groceries.'}, {'id': 'jrb3l45', 'text': 'Watering my lawn in a high desert (Idaho) climate. Waste of money for purely aesthetic benefits.'}, {'id': 'jraorx7', 'text': 'Donating to political campaigns. People say they agree, yet millions donate every election cycle'}, {'id': 'jravybi', 'text': 'Buying a new car every couple of years.'}]}, {'title': 'What cheap meals helped you save money through tough times?', 'score': 1534, 'url': 'https://www.reddit.com/r/AskReddit/comments/14vb5t2/what_cheap_meals_helped_you_save_money_through/', 'id': '14vb5t2', 'comments': [{'id': 'jrcddp5', 'text': 'Ever had sleep for dinner?'}, {'id': 'jrbyjy1', 'text': 'Oatmeal all day everyday'}, {'id': 'jrbzj3c', 'text': 'My stepdad would make us “shit on a shingle” which consisted of bread rice on top of that and then regular ground beef.'}, {'id': 'jrcps8m', 'text': \"Bread, apples, and cheese. You feel like you're in a medieval movie or something and you can supplement with a bowl of hearty soup or stew.\"}, {'id': 'jrbvzw1', 'text': 'Rice with seared cabbage and a fried egg.'}, {'id': 'jrc6d8b', 'text': 'In college I ate peanut butter on toast for breakfast and .99$ bean burrito from a taco stand next door to my apartment for dinner.'}]}, {'title': 'What’s an innocent crime that people commit?', 'score': 1197, 'url': 'https://www.reddit.com/r/AskReddit/comments/14veeeu/whats_an_innocent_crime_that_people_commit/', 'id': '14veeeu', 'comments': [{'id': 'jrckdko', 'text': 'Here in Japan, it’s illegal to hand your neighbour’s misaddressed mail to them. In practice, we all do it.'}, {'id': 'jrcjvc7', 'text': 'Apparently being 5 years old and having a lemonade stand'}, {'id': 'jrcesxf', 'text': \"Piracy for their own use. Especially when the original content isn't even available legitimately anywhere\"}, {'id': 'jrcnx06', 'text': 'Jay walking'}, {'id': 'jrcopm3', 'text': \"Dropping something off in someone's mailbox.\"}, {'id': 'jrcn2on', 'text': 'Herding cattle through the Vatican'}]}, {'title': 'What was the last show you binge-watched?', 'score': 976, 'url': 'https://www.reddit.com/r/AskReddit/comments/14vdatj/what_was_the_last_show_you_bingewatched/', 'id': '14vdatj', 'comments': [{'id': 'jrcmrui', 'text': 'Lost. I’m only twenty years late to the party.'}, {'id': 'jrcp0j5', 'text': 'What we do in the shadows.  \\n\\n\\n100% worth it. *\"The office, now with (dumb) vampires !\"*'}, {'id': 'jrck0xo', 'text': 'The Amazing world of Gumball 😂'}, {'id': 'jrc6kfm', 'text': \"Just reran Breaking Bad since the wife hadn't seen it yet, before that would have been Umbrella Academy for me\"}, {'id': 'jrcdcfs', 'text': 'Better Call Saul'}, {'id': 'jrcncmp', 'text': 'Dead to Me'}]}, {'title': 'you became president, what are your first actions?', 'score': 875, 'url': 'https://www.reddit.com/r/AskReddit/comments/14uzna0/you_became_president_what_are_your_first_actions/', 'id': '14uzna0', 'comments': [{'id': 'jra3rd3', 'text': 'Order a pizza and have all the secret UFO files sent to me'}, {'id': 'jrajuzh', 'text': 'Any politician must now wear a NASCAR style racing suit, bearing logos of ANY lobby they’ve accepted ANY money from, so it is clear as day just exactly who they are “working” for.'}, {'id': 'jra3o2u', 'text': 'Have a water slide built from the top of the Washington Monument to the Whitehouse.'}, {'id': 'jra7s7b', 'text': 'Find a better candidate for the position.'}, {'id': 'jraijmu', 'text': 'Make it illegal for radio stations to play police siren sounds or songs with sirens. \\n\\nNothing irritates me more than that'}, {'id': 'jrafvnt', 'text': \"Shut down every hospital across the country so that hospital-mortality rates would be extinguished. \\n\\n^(kiddin')\"}]}]\n"
     ]
    }
   ],
   "source": [
    "print(post_list)"
   ]
  },
  {
   "cell_type": "code",
   "execution_count": 8,
   "metadata": {},
   "outputs": [
    {
     "name": "stdout",
     "output_type": "stream",
     "text": [
      "{'title': 'What’s hard for you to resist if you see it on a restaurant menu?', 'score': 12005, 'url': 'https://www.reddit.com/r/AskReddit/comments/14v2hfs/whats_hard_for_you_to_resist_if_you_see_it_on_a/', 'id': '14v2hfs', 'comments': [{'id': 'jrb6y0o', 'text': 'An appetizer sampler platter.  I love apps but don’t want just one.'}, {'id': 'jratc45', 'text': 'A French dip sandwich'}, {'id': 'jrav2ho', 'text': 'Crab rangoons and enchiladas'}, {'id': 'jravk93', 'text': 'Eggs Benedict at a breakfast/brunch place.'}, {'id': 'jrassdx', 'text': 'Tiramisu, creme brûlée, tacos Al pastor, jalapeño poppers'}, {'id': 'jrb376s', 'text': 'Bread pudding especially at a place in Virginia Beach that make it out of sweet potato biscuits from the day before.'}]}\n",
      "{'title': 'What’s something that you think is a waste of money but no one else does seems to think so?', 'score': 2180, 'url': 'https://www.reddit.com/r/AskReddit/comments/14v3lil/whats_something_that_you_think_is_a_waste_of/', 'id': '14v3lil', 'comments': [{'id': 'jraokth', 'text': 'Due to recent inflation a lot of fast food. The lines never end.'}, {'id': 'jrarwbb', 'text': \"***this*** years new phone.\\n\\n\\nwhat's wrong with the one you got last year?\"}, {'id': 'jraobr2', 'text': 'Huge pickup trucks for people who never have to haul anything bigger than groceries.'}, {'id': 'jrb3l45', 'text': 'Watering my lawn in a high desert (Idaho) climate. Waste of money for purely aesthetic benefits.'}, {'id': 'jraorx7', 'text': 'Donating to political campaigns. People say they agree, yet millions donate every election cycle'}, {'id': 'jravybi', 'text': 'Buying a new car every couple of years.'}]}\n",
      "{'title': 'What cheap meals helped you save money through tough times?', 'score': 1534, 'url': 'https://www.reddit.com/r/AskReddit/comments/14vb5t2/what_cheap_meals_helped_you_save_money_through/', 'id': '14vb5t2', 'comments': [{'id': 'jrcddp5', 'text': 'Ever had sleep for dinner?'}, {'id': 'jrbyjy1', 'text': 'Oatmeal all day everyday'}, {'id': 'jrbzj3c', 'text': 'My stepdad would make us “shit on a shingle” which consisted of bread rice on top of that and then regular ground beef.'}, {'id': 'jrcps8m', 'text': \"Bread, apples, and cheese. You feel like you're in a medieval movie or something and you can supplement with a bowl of hearty soup or stew.\"}, {'id': 'jrbvzw1', 'text': 'Rice with seared cabbage and a fried egg.'}, {'id': 'jrc6d8b', 'text': 'In college I ate peanut butter on toast for breakfast and .99$ bean burrito from a taco stand next door to my apartment for dinner.'}]}\n",
      "{'title': 'What’s an innocent crime that people commit?', 'score': 1197, 'url': 'https://www.reddit.com/r/AskReddit/comments/14veeeu/whats_an_innocent_crime_that_people_commit/', 'id': '14veeeu', 'comments': [{'id': 'jrckdko', 'text': 'Here in Japan, it’s illegal to hand your neighbour’s misaddressed mail to them. In practice, we all do it.'}, {'id': 'jrcjvc7', 'text': 'Apparently being 5 years old and having a lemonade stand'}, {'id': 'jrcesxf', 'text': \"Piracy for their own use. Especially when the original content isn't even available legitimately anywhere\"}, {'id': 'jrcnx06', 'text': 'Jay walking'}, {'id': 'jrcopm3', 'text': \"Dropping something off in someone's mailbox.\"}, {'id': 'jrcn2on', 'text': 'Herding cattle through the Vatican'}]}\n",
      "{'title': 'What was the last show you binge-watched?', 'score': 976, 'url': 'https://www.reddit.com/r/AskReddit/comments/14vdatj/what_was_the_last_show_you_bingewatched/', 'id': '14vdatj', 'comments': [{'id': 'jrcmrui', 'text': 'Lost. I’m only twenty years late to the party.'}, {'id': 'jrcp0j5', 'text': 'What we do in the shadows.  \\n\\n\\n100% worth it. *\"The office, now with (dumb) vampires !\"*'}, {'id': 'jrck0xo', 'text': 'The Amazing world of Gumball 😂'}, {'id': 'jrc6kfm', 'text': \"Just reran Breaking Bad since the wife hadn't seen it yet, before that would have been Umbrella Academy for me\"}, {'id': 'jrcdcfs', 'text': 'Better Call Saul'}, {'id': 'jrcncmp', 'text': 'Dead to Me'}]}\n",
      "{'title': 'you became president, what are your first actions?', 'score': 875, 'url': 'https://www.reddit.com/r/AskReddit/comments/14uzna0/you_became_president_what_are_your_first_actions/', 'id': '14uzna0', 'comments': [{'id': 'jra3rd3', 'text': 'Order a pizza and have all the secret UFO files sent to me'}, {'id': 'jrajuzh', 'text': 'Any politician must now wear a NASCAR style racing suit, bearing logos of ANY lobby they’ve accepted ANY money from, so it is clear as day just exactly who they are “working” for.'}, {'id': 'jra3o2u', 'text': 'Have a water slide built from the top of the Washington Monument to the Whitehouse.'}, {'id': 'jra7s7b', 'text': 'Find a better candidate for the position.'}, {'id': 'jraijmu', 'text': 'Make it illegal for radio stations to play police siren sounds or songs with sirens. \\n\\nNothing irritates me more than that'}, {'id': 'jrafvnt', 'text': \"Shut down every hospital across the country so that hospital-mortality rates would be extinguished. \\n\\n^(kiddin')\"}]}\n"
     ]
    }
   ],
   "source": [
    "for post in post_list:\n",
    "    print(post)"
   ]
  },
  {
   "cell_type": "code",
   "execution_count": 9,
   "metadata": {},
   "outputs": [
    {
     "name": "stdout",
     "output_type": "stream",
     "text": [
      "What’s hard for you to resist if you see it on a restaurant menu?\n",
      "What’s something that you think is a waste of money but no one else does seems to think so?\n",
      "What cheap meals helped you save money through tough times?\n",
      "What’s an innocent crime that people commit?\n",
      "What was the last show you binge-watched?\n",
      "you became president, what are your first actions?\n"
     ]
    }
   ],
   "source": [
    "for i, post in enumerate(post_list):\n",
    "    print(post['title'])"
   ]
  },
  {
   "cell_type": "code",
   "execution_count": 10,
   "metadata": {},
   "outputs": [],
   "source": [
    "from controllers.voice_over import createVoiceOver, createVoiceOverPost\n",
    "\n",
    "for i, post in enumerate(post_list):\n",
    "    createVoiceOverPost(i, post['title'])\n",
    "    \n",
    "    for comment in post['comments']:\n",
    "        createVoiceOver(comment['id'], comment['text'], i)\n"
   ]
  },
  {
   "cell_type": "code",
   "execution_count": 11,
   "metadata": {},
   "outputs": [
    {
     "name": "stdout",
     "output_type": "stream",
     "text": [
      "target_id t3_14v2hfs\n",
      "Element not found in the DOM.\n",
      "target_id t3_14v3lil\n",
      "Element not found in the DOM.\n",
      "target_id t3_14vb5t2\n",
      "Element not found in the DOM.\n",
      "target_id t3_14veeeu\n",
      "Element not found in the DOM.\n",
      "target_id t3_14vdatj\n",
      "Element not found in the DOM.\n",
      "target_id t3_14uzna0\n",
      "Element not found in the DOM.\n"
     ]
    }
   ],
   "source": [
    "from selenium import webdriver\n",
    "from selenium import webdriver\n",
    "from selenium.webdriver.common.by import By\n",
    "from selenium.webdriver.support.ui import WebDriverWait\n",
    "from selenium.webdriver.support import expected_conditions as EC\n",
    "from selenium.common.exceptions import NoSuchElementException\n",
    "from constants import SS_HEIGHT, SS_WIDTH, screenshotDir\n",
    "import os\n",
    "\n",
    "screenWidth = SS_WIDTH\n",
    "screenHeight = SS_HEIGHT\n",
    "\n",
    "def takingSS(driver, wait, target_id, fileName):\n",
    "    print('target_id', target_id)\n",
    "    element = wait.until(EC.presence_of_element_located((By.ID, target_id)))\n",
    "    \n",
    "    try:\n",
    "        closeId = 'close'\n",
    "        ele = driver.find_element(By.ID, closeId)\n",
    "        ele.click()\n",
    "        print(\"Element found and clicked!\")\n",
    "    except NoSuchElementException:\n",
    "        print(\"Element not found in the DOM.\")\n",
    "\n",
    "    driver.execute_script(\"window.focus();\")\n",
    "    ss = f'{fileName}.png'\n",
    "    fp = open(ss, \"wb\")\n",
    "    fp.write(element.screenshot_as_png)\n",
    "    fp.close()\n",
    "\n",
    "def initiateDriver(post):\n",
    "    options = webdriver.ChromeOptions()\n",
    "    options.enable_mobile = False\n",
    "    options.add_argument('-headless')\n",
    "    driver = webdriver.Chrome(options=options)\n",
    "    url = post['url']\n",
    "    driver.get(url)\n",
    "    \n",
    "    wait = WebDriverWait(driver, 10)\n",
    "    driver.set_window_size(width=screenWidth, height=screenHeight)\n",
    "\n",
    "    return driver, wait\n",
    "\n",
    "for i, post in enumerate(post_list):\n",
    "    driver, wait = initiateDriver(post)\n",
    "    fileName = f'screenshots/post-{i}'\n",
    "    os.mkdir(fileName)\n",
    "    prefix = f'{fileName}/main'\n",
    "    post_id = f\"t3_{post['id']}\"\n",
    "    takingSS(driver, wait, post_id, prefix)\n",
    "    driver.quit()"
   ]
  },
  {
   "cell_type": "code",
   "execution_count": 12,
   "metadata": {},
   "outputs": [],
   "source": [
    "from PIL import Image, ImageDraw, ImageFont\n",
    "import textwrap\n",
    "\n",
    "def makeScreenShotsForComments(text, path, font_size = 14):\n",
    "    font_color = (0, 0, 0)  # RGB color for the font\n",
    "    font_path = \"font\\Roboto-Black.ttf\"  # Replace with the path to your desired font file\n",
    "\n",
    "    # Create a new image with a white background\n",
    "    background_color = (255, 255, 255)  # RGB color for the background\n",
    "    width = 400\n",
    "    padding = 10  # Padding around the text\n",
    "    line_spacing = 4  # Spacing between lines of text\n",
    "\n",
    "    font = ImageFont.truetype(font_path, font_size)\n",
    "    text_lines = textwrap.wrap(text, width=60)  # Adjust the width parameter as desired\n",
    "\n",
    "    # Calculate the height of the image based on the text length\n",
    "    line_height = font.getsize(\"Sample\")[1]\n",
    "    text_height = (line_height + line_spacing) * len(text_lines)\n",
    "    height = text_height + (padding * 2)\n",
    "\n",
    "    image = Image.new(\"RGB\", (width, height), background_color)\n",
    "    draw = ImageDraw.Draw(image)\n",
    "\n",
    "    # Calculate the starting position for the text\n",
    "    text_x = padding\n",
    "    text_y = padding\n",
    "\n",
    "    # Draw the text onto the image\n",
    "    for line in text_lines:\n",
    "        line_width, line_height = font.getsize(line)\n",
    "        draw.text((text_x, text_y), line, font=font, fill=font_color)\n",
    "        text_y += line_height + line_spacing\n",
    "\n",
    "    image.save(f\"{path}.png\")\n",
    "    "
   ]
  },
  {
   "cell_type": "code",
   "execution_count": 13,
   "metadata": {},
   "outputs": [
    {
     "name": "stderr",
     "output_type": "stream",
     "text": [
      "C:\\Users\\acer\\AppData\\Local\\Temp\\ipykernel_11552\\3021440192.py:18: DeprecationWarning: getsize is deprecated and will be removed in Pillow 10 (2023-07-01). Use getbbox or getlength instead.\n",
      "  line_height = font.getsize(\"Sample\")[1]\n",
      "C:\\Users\\acer\\AppData\\Local\\Temp\\ipykernel_11552\\3021440192.py:31: DeprecationWarning: getsize is deprecated and will be removed in Pillow 10 (2023-07-01). Use getbbox or getlength instead.\n",
      "  line_width, line_height = font.getsize(line)\n"
     ]
    }
   ],
   "source": [
    "for i, post in enumerate(post_list):\n",
    "    \n",
    "    for comment in post['comments']:\n",
    "        path = f\"screenshots/post-{i}/comment-{comment['id']}\"\n",
    "        makeScreenShotsForComments(comment['text'], path)\n"
   ]
  },
  {
   "cell_type": "code",
   "execution_count": 16,
   "metadata": {},
   "outputs": [],
   "source": [
    "from moviepy.editor import VideoFileClip, concatenate_videoclips\n",
    "\n",
    "def loopingBgVideo(duration, path):\n",
    "    original_clip = VideoFileClip(path)\n",
    "    original_clip = original_clip.without_audio()\n",
    "    subclip = original_clip.subclip(0, 5)\n",
    "    subclip =  subclip.resize((460, 1080))\n",
    "    looped_clip = concatenate_videoclips([subclip] * (duration // subclip.duration))\n",
    "    return looped_clip\n"
   ]
  },
  {
   "cell_type": "code",
   "execution_count": 17,
   "metadata": {},
   "outputs": [
    {
     "name": "stdout",
     "output_type": "stream",
     "text": [
      "Moviepy - Building video finalVideo/reel-0.mp4.\n",
      "MoviePy - Writing audio in reel-0TEMP_MPY_wvf_snd.mp3\n"
     ]
    },
    {
     "name": "stderr",
     "output_type": "stream",
     "text": [
      "                                                                   \r"
     ]
    },
    {
     "name": "stdout",
     "output_type": "stream",
     "text": [
      "MoviePy - Done.\n",
      "Moviepy - Writing video finalVideo/reel-0.mp4\n",
      "\n"
     ]
    },
    {
     "name": "stderr",
     "output_type": "stream",
     "text": [
      "                                                              \r"
     ]
    },
    {
     "name": "stdout",
     "output_type": "stream",
     "text": [
      "Moviepy - Done !\n",
      "Moviepy - video ready finalVideo/reel-0.mp4\n",
      "Moviepy - Building video finalVideo/reel-1.mp4.\n",
      "MoviePy - Writing audio in reel-1TEMP_MPY_wvf_snd.mp3\n"
     ]
    },
    {
     "name": "stderr",
     "output_type": "stream",
     "text": [
      "                                                                   \r"
     ]
    },
    {
     "name": "stdout",
     "output_type": "stream",
     "text": [
      "MoviePy - Done.\n",
      "Moviepy - Writing video finalVideo/reel-1.mp4\n",
      "\n"
     ]
    },
    {
     "name": "stderr",
     "output_type": "stream",
     "text": [
      "                                                              \r"
     ]
    },
    {
     "name": "stdout",
     "output_type": "stream",
     "text": [
      "Moviepy - Done !\n",
      "Moviepy - video ready finalVideo/reel-1.mp4\n",
      "Moviepy - Building video finalVideo/reel-2.mp4.\n",
      "MoviePy - Writing audio in reel-2TEMP_MPY_wvf_snd.mp3\n"
     ]
    },
    {
     "name": "stderr",
     "output_type": "stream",
     "text": [
      "                                                                   \r"
     ]
    },
    {
     "name": "stdout",
     "output_type": "stream",
     "text": [
      "MoviePy - Done.\n",
      "Moviepy - Writing video finalVideo/reel-2.mp4\n",
      "\n"
     ]
    },
    {
     "name": "stderr",
     "output_type": "stream",
     "text": [
      "                                                               \r"
     ]
    },
    {
     "name": "stdout",
     "output_type": "stream",
     "text": [
      "Moviepy - Done !\n",
      "Moviepy - video ready finalVideo/reel-2.mp4\n",
      "Moviepy - Building video finalVideo/reel-3.mp4.\n",
      "MoviePy - Writing audio in reel-3TEMP_MPY_wvf_snd.mp3\n"
     ]
    },
    {
     "name": "stderr",
     "output_type": "stream",
     "text": [
      "                                                                   \r"
     ]
    },
    {
     "name": "stdout",
     "output_type": "stream",
     "text": [
      "MoviePy - Done.\n",
      "Moviepy - Writing video finalVideo/reel-3.mp4\n",
      "\n"
     ]
    },
    {
     "name": "stderr",
     "output_type": "stream",
     "text": [
      "                                                                 \r"
     ]
    },
    {
     "name": "stdout",
     "output_type": "stream",
     "text": [
      "Moviepy - Done !\n",
      "Moviepy - video ready finalVideo/reel-3.mp4\n",
      "Moviepy - Building video finalVideo/reel-4.mp4.\n",
      "MoviePy - Writing audio in reel-4TEMP_MPY_wvf_snd.mp3\n"
     ]
    },
    {
     "name": "stderr",
     "output_type": "stream",
     "text": [
      "                                                                   \r"
     ]
    },
    {
     "name": "stdout",
     "output_type": "stream",
     "text": [
      "MoviePy - Done.\n",
      "Moviepy - Writing video finalVideo/reel-4.mp4\n",
      "\n"
     ]
    },
    {
     "name": "stderr",
     "output_type": "stream",
     "text": [
      "                                                              \r"
     ]
    },
    {
     "name": "stdout",
     "output_type": "stream",
     "text": [
      "Moviepy - Done !\n",
      "Moviepy - video ready finalVideo/reel-4.mp4\n",
      "Moviepy - Building video finalVideo/reel-5.mp4.\n",
      "MoviePy - Writing audio in reel-5TEMP_MPY_wvf_snd.mp3\n"
     ]
    },
    {
     "name": "stderr",
     "output_type": "stream",
     "text": [
      "                                                                   \r"
     ]
    },
    {
     "name": "stdout",
     "output_type": "stream",
     "text": [
      "MoviePy - Done.\n",
      "Moviepy - Writing video finalVideo/reel-5.mp4\n",
      "\n"
     ]
    },
    {
     "name": "stderr",
     "output_type": "stream",
     "text": [
      "                                                                "
     ]
    },
    {
     "name": "stdout",
     "output_type": "stream",
     "text": [
      "Moviepy - Done !\n",
      "Moviepy - video ready finalVideo/reel-5.mp4\n"
     ]
    },
    {
     "name": "stderr",
     "output_type": "stream",
     "text": [
      "\r"
     ]
    }
   ],
   "source": [
    "from moviepy.editor import ImageClip, AudioFileClip, CompositeVideoClip\n",
    "import math\n",
    "import random\n",
    "\n",
    "def createVideoClip(ssFile, voiceFile):\n",
    "    audioClip = AudioFileClip(voiceFile)\n",
    "    imageClip = ImageClip(ssFile).set_duration(audioClip.duration)\n",
    "    videoClip = imageClip.set_audio(audioClip)\n",
    "    return videoClip\n",
    "\n",
    "for i, post in enumerate(post_list):\n",
    "    clips = []\n",
    "    mainPostSS = f\"screenshots/post-{i}/main.png\"\n",
    "    mainPostAudio = f\"VoiceOvers/post-{i}/main.mp3\"\n",
    "    mainPostClip = createVideoClip(mainPostSS, mainPostAudio)\n",
    "\n",
    "    clips.append(mainPostClip)\n",
    "\n",
    "    start_time = mainPostClip.duration  # Set the start time for the next clip\n",
    "\n",
    "    for comment in post['comments']:\n",
    "        pathSS = f\"screenshots/post-{i}/comment-{comment['id']}.png\"\n",
    "        pathAudio = f\"VoiceOvers/post-{i}/comment-{comment['id']}.mp3\"\n",
    "        commentClip = createVideoClip(pathSS, pathAudio)\n",
    "        commentClip = commentClip.set_start(start_time)  # Set the start time for the comment clip\n",
    "        clips.append(commentClip)\n",
    "\n",
    "        start_time += commentClip.duration  # Update the start time for the next clip\n",
    "\n",
    "    bgIndex = random.randint(1, 5)\n",
    "    bgVideoPath = f\"sampleBgVideo/{bgIndex}.mp4\"\n",
    "    bgClip = loopingBgVideo(math.ceil(start_time), bgVideoPath)\n",
    "\n",
    "    # Calculate the center position of the background clip\n",
    "    bg_center_x = bgClip.w / 2\n",
    "    bg_center_y = bgClip.h / 2\n",
    "\n",
    "    # Adjust the position of each clip to center them on the background clip\n",
    "    for idx, clip in enumerate(clips):\n",
    "        clip_center_x = clip.w / 2\n",
    "        clip_center_y = clip.h / 2\n",
    "        clips[idx] = clip.set_position((bg_center_x - clip_center_x, bg_center_y - clip_center_y))\n",
    "\n",
    "    finalVideo = CompositeVideoClip(clips=[bgClip] + clips)\n",
    "\n",
    "    outputFile = f\"finalVideo/reel-{i}.mp4\"\n",
    "    # outputFile = 'test-output.mp4'\n",
    "    finalVideo.write_videofile(outputFile, codec='mpeg4', threads=12, bitrate='8000k')"
   ]
  },
  {
   "cell_type": "code",
   "execution_count": null,
   "metadata": {},
   "outputs": [],
   "source": []
  }
 ],
 "metadata": {
  "kernelspec": {
   "display_name": "space",
   "language": "python",
   "name": "python3"
  },
  "language_info": {
   "codemirror_mode": {
    "name": "ipython",
    "version": 3
   },
   "file_extension": ".py",
   "mimetype": "text/x-python",
   "name": "python",
   "nbconvert_exporter": "python",
   "pygments_lexer": "ipython3",
   "version": "3.9.2"
  },
  "orig_nbformat": 4
 },
 "nbformat": 4,
 "nbformat_minor": 2
}
