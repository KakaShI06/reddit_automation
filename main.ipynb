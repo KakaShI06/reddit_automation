{
 "cells": [
  {
   "cell_type": "code",
   "execution_count": 1,
   "metadata": {},
   "outputs": [
    {
     "data": {
      "text/plain": [
       "True"
      ]
     },
     "execution_count": 1,
     "metadata": {},
     "output_type": "execute_result"
    }
   ],
   "source": [
    "import praw\n",
    "import os\n",
    "from dotenv import load_dotenv\n",
    "\n",
    "# Load environment variables from .env file\n",
    "load_dotenv('.env')"
   ]
  },
  {
   "cell_type": "code",
   "execution_count": 2,
   "metadata": {},
   "outputs": [],
   "source": [
    "# Access and use the environment variables\n",
    "SECRET_KEY = os.getenv(\"SECRET_KEY\")\n",
    "USER_AGENT = os.getenv(\"USER_AGENT\")\n",
    "CLIENT_ID = os.getenv(\"CLIENT_ID\")"
   ]
  },
  {
   "cell_type": "code",
   "execution_count": 3,
   "metadata": {},
   "outputs": [
    {
     "name": "stdout",
     "output_type": "stream",
     "text": [
      "True\n"
     ]
    },
    {
     "name": "stderr",
     "output_type": "stream",
     "text": [
      "Version 7.7.0 of praw is outdated. Version 7.7.1 was released 5 days ago.\n"
     ]
    }
   ],
   "source": [
    "#Initializing reddit instance\n",
    "\n",
    "reddit = praw.Reddit(\n",
    "    client_id=CLIENT_ID,\n",
    "    client_secret=SECRET_KEY,\n",
    "    user_agent=USER_AGENT,\n",
    ")\n",
    "\n",
    "print(reddit.read_only)"
   ]
  },
  {
   "cell_type": "code",
   "execution_count": 4,
   "metadata": {},
   "outputs": [],
   "source": [
    "redditPost = reddit.subreddit(\"askreddit\")\n",
    "top_posts = redditPost.top(limit=10, time_filter=\"day\")"
   ]
  },
  {
   "cell_type": "code",
   "execution_count": 5,
   "metadata": {},
   "outputs": [],
   "source": [
    "def getCommentForPost(comments):\n",
    "    commentList = []\n",
    "\n",
    "    for comment in comments:\n",
    "        if ( len(commentList) > 5 ):\n",
    "            break\n",
    "\n",
    "        if ( len(comment.body) < 10 or len(comment.body) > 200 ):\n",
    "            continue\n",
    "        \n",
    "        comment_dic = {\n",
    "            'id': comment.id,\n",
    "            'text': comment.body\n",
    "        }\n",
    "\n",
    "        commentList.append(comment_dic)\n",
    "\n",
    "    return commentList\n"
   ]
  },
  {
   "cell_type": "code",
   "execution_count": 6,
   "metadata": {},
   "outputs": [],
   "source": [
    "# Convert individual posts to dictionaries\n",
    "post_list = []\n",
    "for post in top_posts:\n",
    "    if post.over_18:\n",
    "        continue\n",
    "\n",
    "    post_dict = {\n",
    "        'title': post.title,\n",
    "        'score': post.score,\n",
    "        'url': post.url,\n",
    "        'id': post.id,\n",
    "        'comments': getCommentForPost(post.comments)\n",
    "        # Include other desired fields here\n",
    "    }\n",
    "    post_list.append(post_dict)\n",
    "\n",
    "# Convert the list of posts to JSON format"
   ]
  },
  {
   "cell_type": "code",
   "execution_count": 7,
   "metadata": {},
   "outputs": [
    {
     "name": "stdout",
     "output_type": "stream",
     "text": [
      "[{'title': 'What successful famous sitcoms you didnt find funny at all?', 'score': 6168, 'url': 'https://www.reddit.com/r/AskReddit/comments/1513vy0/what_successful_famous_sitcoms_you_didnt_find/', 'id': '1513vy0', 'comments': [{'id': 'js6x9l6', 'text': '2 broke girls,it was like fingernails on a chalk board to me!!!'}, {'id': 'js6ts3a', 'text': 'Remember iCarly? But like the literal iCarly web show within the sitcom, where they would do silly stuff on camera? I always found that part kind of cringe. The rest of the show was great though.'}, {'id': 'js6xwcu', 'text': 'At this writing, there are over 500 posts, yet only about a half dozen answers.'}, {'id': 'js6o6cq', 'text': '60 Minutes.\\n\\nBarely a giggle.'}, {'id': 'js6wblr', 'text': 'Most sitcoms with a laugh track annoy me.'}, {'id': 'js6hyup', 'text': '2 Broke Girls'}]}, {'title': 'What is the worst event in human history?', 'score': 3938, 'url': 'https://www.reddit.com/r/AskReddit/comments/1517pfz/what_is_the_worst_event_in_human_history/', 'id': '1517pfz', 'comments': [{'id': 'js710md', 'text': '70,000 B.C., Mount Toba erupted. Almost wiped out the human race.'}, {'id': 'js7i4r2', 'text': 'My parents threw a surprise party for me when I graduated high school and invited two of my exes.'}, {'id': 'js7trw4', 'text': 'When that U2 album suddenly appeared on everyone’s iPhone'}, {'id': 'js7wvvz', 'text': 'Jessica Biel not naming her son Batmo Biel'}, {'id': 'js7w3q3', 'text': 'Skyler sings happy birthday to Ted scene'}, {'id': 'js78ej6', 'text': 'The Rape of Nanking isn’t great.  There’s so many bad events, but that one stands out (besides the Holocaust which has been mentioned here of course).'}]}, {'title': \"What's the worst response to, 'I have a crush on you'?\", 'score': 1904, 'url': 'https://www.reddit.com/r/AskReddit/comments/151914t/whats_the_worst_response_to_i_have_a_crush_on_you/', 'id': '151914t', 'comments': [{'id': 'js7fvhp', 'text': 'laughing then they yell to their friends hey yall gotta hear this'}, {'id': 'js7r5gm', 'text': 'I got a full written letter response once when I was like 10, where my crush went on to explain in great detail the various ways in which I was to eat shit and die.'}, {'id': 'js866yk', 'text': 'As an ai language model I have an inability to experience emotions and love, however I am very flattered.'}, {'id': 'js7fjez', 'text': \"I really wish you hadn't told me that. (and then they leave without saying anything else)\"}, {'id': 'js7dvff', 'text': 'I have a crush on your best friend 💔'}, {'id': 'js7lpx4', 'text': '\"I have crush on me too.\"\\n\\n*pulls out a mirror*\\n\\n\"God I\\'m so good looking.\"'}]}, {'title': 'What was your personal hell on Earth when you were a kid?', 'score': 1462, 'url': 'https://www.reddit.com/r/AskReddit/comments/151h74k/what_was_your_personal_hell_on_earth_when_you/', 'id': '151h74k', 'comments': [{'id': 'js8s6ox', 'text': 'Other kids. Nobody gave a shit if you were bullied in the 70s and 80s.'}, {'id': 'js8zuws', 'text': ' My Narcissistic Mom. Spent my childhood always walking on eggshells and nothing was ever her fault.'}, {'id': 'js8m7ua', 'text': 'My name rhymes with a few unfortunate words... kids calling you names every minute of the day in the class while the teacher does nothing, for two years straight literally changes a person haha.'}, {'id': 'js8xi2q', 'text': \"Not understanding why nobody seemed to like me. It seemed like every one was always frustrated with me but I couldn't figure it out. ADHD Middle Kid problems, I guess\"}, {'id': 'js8oomh', 'text': 'Spent a week falling asleep in one foster home and waking up in another before the courts released me to my grandmother. That was pretty horrible.'}, {'id': 'js8prka', 'text': 'Middle school cafeteria.'}]}, {'title': 'What are the best reasons to stay single?', 'score': 654, 'url': 'https://www.reddit.com/r/AskReddit/comments/151j5b9/what_are_the_best_reasons_to_stay_single/', 'id': '151j5b9', 'comments': [{'id': 'js92yvt', 'text': 'Autonomy over your time, money, and emotional energy.\\n\\nNever share these things with folks who are unworthy of them.  They are very precious resources.'}, {'id': 'js8xxod', 'text': 'I see people have unhappy toxic and dependent relationships built on worship and dedication to the wrong people and it has deterred me. I value freedom'}, {'id': 'js96nrt', 'text': 'You don’t have to endure in-laws, unstable dysfunctional family dynamics outside of your own family.'}, {'id': 'js9200e', 'text': 'Healing inside (mentally), improving yourself. Doing whatever you feel like, no strings attached.'}, {'id': 'js933kw', 'text': 'Not having to constantly explain yourself.'}, {'id': 'js8u96y', 'text': 'You get the entire bed to yourself.'}]}]\n"
     ]
    }
   ],
   "source": [
    "print(post_list)"
   ]
  },
  {
   "cell_type": "code",
   "execution_count": 8,
   "metadata": {},
   "outputs": [
    {
     "name": "stdout",
     "output_type": "stream",
     "text": [
      "{'title': 'What successful famous sitcoms you didnt find funny at all?', 'score': 6168, 'url': 'https://www.reddit.com/r/AskReddit/comments/1513vy0/what_successful_famous_sitcoms_you_didnt_find/', 'id': '1513vy0', 'comments': [{'id': 'js6x9l6', 'text': '2 broke girls,it was like fingernails on a chalk board to me!!!'}, {'id': 'js6ts3a', 'text': 'Remember iCarly? But like the literal iCarly web show within the sitcom, where they would do silly stuff on camera? I always found that part kind of cringe. The rest of the show was great though.'}, {'id': 'js6xwcu', 'text': 'At this writing, there are over 500 posts, yet only about a half dozen answers.'}, {'id': 'js6o6cq', 'text': '60 Minutes.\\n\\nBarely a giggle.'}, {'id': 'js6wblr', 'text': 'Most sitcoms with a laugh track annoy me.'}, {'id': 'js6hyup', 'text': '2 Broke Girls'}]}\n",
      "{'title': 'What is the worst event in human history?', 'score': 3938, 'url': 'https://www.reddit.com/r/AskReddit/comments/1517pfz/what_is_the_worst_event_in_human_history/', 'id': '1517pfz', 'comments': [{'id': 'js710md', 'text': '70,000 B.C., Mount Toba erupted. Almost wiped out the human race.'}, {'id': 'js7i4r2', 'text': 'My parents threw a surprise party for me when I graduated high school and invited two of my exes.'}, {'id': 'js7trw4', 'text': 'When that U2 album suddenly appeared on everyone’s iPhone'}, {'id': 'js7wvvz', 'text': 'Jessica Biel not naming her son Batmo Biel'}, {'id': 'js7w3q3', 'text': 'Skyler sings happy birthday to Ted scene'}, {'id': 'js78ej6', 'text': 'The Rape of Nanking isn’t great.  There’s so many bad events, but that one stands out (besides the Holocaust which has been mentioned here of course).'}]}\n",
      "{'title': \"What's the worst response to, 'I have a crush on you'?\", 'score': 1904, 'url': 'https://www.reddit.com/r/AskReddit/comments/151914t/whats_the_worst_response_to_i_have_a_crush_on_you/', 'id': '151914t', 'comments': [{'id': 'js7fvhp', 'text': 'laughing then they yell to their friends hey yall gotta hear this'}, {'id': 'js7r5gm', 'text': 'I got a full written letter response once when I was like 10, where my crush went on to explain in great detail the various ways in which I was to eat shit and die.'}, {'id': 'js866yk', 'text': 'As an ai language model I have an inability to experience emotions and love, however I am very flattered.'}, {'id': 'js7fjez', 'text': \"I really wish you hadn't told me that. (and then they leave without saying anything else)\"}, {'id': 'js7dvff', 'text': 'I have a crush on your best friend 💔'}, {'id': 'js7lpx4', 'text': '\"I have crush on me too.\"\\n\\n*pulls out a mirror*\\n\\n\"God I\\'m so good looking.\"'}]}\n",
      "{'title': 'What was your personal hell on Earth when you were a kid?', 'score': 1462, 'url': 'https://www.reddit.com/r/AskReddit/comments/151h74k/what_was_your_personal_hell_on_earth_when_you/', 'id': '151h74k', 'comments': [{'id': 'js8s6ox', 'text': 'Other kids. Nobody gave a shit if you were bullied in the 70s and 80s.'}, {'id': 'js8zuws', 'text': ' My Narcissistic Mom. Spent my childhood always walking on eggshells and nothing was ever her fault.'}, {'id': 'js8m7ua', 'text': 'My name rhymes with a few unfortunate words... kids calling you names every minute of the day in the class while the teacher does nothing, for two years straight literally changes a person haha.'}, {'id': 'js8xi2q', 'text': \"Not understanding why nobody seemed to like me. It seemed like every one was always frustrated with me but I couldn't figure it out. ADHD Middle Kid problems, I guess\"}, {'id': 'js8oomh', 'text': 'Spent a week falling asleep in one foster home and waking up in another before the courts released me to my grandmother. That was pretty horrible.'}, {'id': 'js8prka', 'text': 'Middle school cafeteria.'}]}\n",
      "{'title': 'What are the best reasons to stay single?', 'score': 654, 'url': 'https://www.reddit.com/r/AskReddit/comments/151j5b9/what_are_the_best_reasons_to_stay_single/', 'id': '151j5b9', 'comments': [{'id': 'js92yvt', 'text': 'Autonomy over your time, money, and emotional energy.\\n\\nNever share these things with folks who are unworthy of them.  They are very precious resources.'}, {'id': 'js8xxod', 'text': 'I see people have unhappy toxic and dependent relationships built on worship and dedication to the wrong people and it has deterred me. I value freedom'}, {'id': 'js96nrt', 'text': 'You don’t have to endure in-laws, unstable dysfunctional family dynamics outside of your own family.'}, {'id': 'js9200e', 'text': 'Healing inside (mentally), improving yourself. Doing whatever you feel like, no strings attached.'}, {'id': 'js933kw', 'text': 'Not having to constantly explain yourself.'}, {'id': 'js8u96y', 'text': 'You get the entire bed to yourself.'}]}\n"
     ]
    }
   ],
   "source": [
    "for post in post_list:\n",
    "    print(post)"
   ]
  },
  {
   "cell_type": "code",
   "execution_count": 9,
   "metadata": {},
   "outputs": [
    {
     "name": "stdout",
     "output_type": "stream",
     "text": [
      "What successful famous sitcoms you didnt find funny at all?\n",
      "What is the worst event in human history?\n",
      "What's the worst response to, 'I have a crush on you'?\n",
      "What was your personal hell on Earth when you were a kid?\n",
      "What are the best reasons to stay single?\n"
     ]
    }
   ],
   "source": [
    "for i, post in enumerate(post_list):\n",
    "    print(post['title'])"
   ]
  },
  {
   "cell_type": "code",
   "execution_count": 10,
   "metadata": {},
   "outputs": [],
   "source": [
    "from controllers.voice_over import createVoiceOver, createVoiceOverPost\n",
    "\n",
    "for i, post in enumerate(post_list):\n",
    "    createVoiceOverPost(i, post['title'])\n",
    "    \n",
    "    for comment in post['comments']:\n",
    "        createVoiceOver(comment['id'], comment['text'], i)\n"
   ]
  },
  {
   "cell_type": "code",
   "execution_count": 11,
   "metadata": {},
   "outputs": [
    {
     "name": "stdout",
     "output_type": "stream",
     "text": [
      "target_id t3_1513vy0\n",
      "Element not found in the DOM.\n",
      "target_id t3_1517pfz\n",
      "Element not found in the DOM.\n",
      "target_id t3_151914t\n",
      "Element not found in the DOM.\n",
      "target_id t3_151h74k\n",
      "Element not found in the DOM.\n",
      "target_id t3_151j5b9\n",
      "Element not found in the DOM.\n"
     ]
    }
   ],
   "source": [
    "from selenium import webdriver\n",
    "from selenium import webdriver\n",
    "from selenium.webdriver.common.by import By\n",
    "from selenium.webdriver.support.ui import WebDriverWait\n",
    "from selenium.webdriver.support import expected_conditions as EC\n",
    "from selenium.common.exceptions import NoSuchElementException\n",
    "from constants import SS_HEIGHT, SS_WIDTH, screenshotDir\n",
    "import os\n",
    "\n",
    "screenWidth = SS_WIDTH\n",
    "screenHeight = SS_HEIGHT\n",
    "\n",
    "def takingSS(driver, wait, target_id, fileName):\n",
    "    print('target_id', target_id)\n",
    "    element = wait.until(EC.presence_of_element_located((By.ID, target_id)))\n",
    "    \n",
    "    try:\n",
    "        closeId = 'close'\n",
    "        ele = driver.find_element(By.ID, closeId)\n",
    "        ele.click()\n",
    "        print(\"Element found and clicked!\")\n",
    "    except NoSuchElementException:\n",
    "        print(\"Element not found in the DOM.\")\n",
    "\n",
    "    driver.execute_script(\"window.focus();\")\n",
    "    ss = f'{fileName}.png'\n",
    "    fp = open(ss, \"wb\")\n",
    "    fp.write(element.screenshot_as_png)\n",
    "    fp.close()\n",
    "\n",
    "def initiateDriver(post):\n",
    "    options = webdriver.ChromeOptions()\n",
    "    options.enable_mobile = False\n",
    "    options.add_argument('-headless')\n",
    "    driver = webdriver.Chrome(options=options)\n",
    "    url = post['url']\n",
    "    driver.get(url)\n",
    "    \n",
    "    wait = WebDriverWait(driver, 10)\n",
    "    driver.set_window_size(width=screenWidth, height=screenHeight)\n",
    "\n",
    "    return driver, wait\n",
    "\n",
    "for i, post in enumerate(post_list):\n",
    "    driver, wait = initiateDriver(post)\n",
    "    fileName = f'screenshots/post-{i}'\n",
    "    os.mkdir(fileName)\n",
    "    prefix = f'{fileName}/main'\n",
    "    post_id = f\"t3_{post['id']}\"\n",
    "    takingSS(driver, wait, post_id, prefix)\n",
    "    driver.quit()"
   ]
  },
  {
   "cell_type": "code",
   "execution_count": 23,
   "metadata": {},
   "outputs": [],
   "source": [
    "from PIL import Image, ImageDraw, ImageFont\n",
    "import textwrap\n",
    "\n",
    "def makeScreenShotsForComments(text, path, font_size = 18):\n",
    "    font_color = (0, 0, 0)  # RGB color for the font\n",
    "    font_path = \"font\\Roboto-Black.ttf\"  # Replace with the path to your desired font file\n",
    "\n",
    "    # Create a new image with a white background\n",
    "    background_color = (255, 255, 255)  # RGB color for the background\n",
    "    width = SS_WIDTH\n",
    "    padding = 10  # Padding around the text\n",
    "    line_spacing = 4  # Spacing between lines of text\n",
    "\n",
    "    font = ImageFont.truetype(font_path, font_size)\n",
    "    text_lines = textwrap.wrap(text, width=70)  # Adjust the width parameter as desired\n",
    "\n",
    "    # Calculate the height of the image based on the text length\n",
    "    line_height = font.getsize(\"Sample\")[1]\n",
    "    text_height = (line_height + line_spacing) * len(text_lines)\n",
    "    height = text_height + (padding * 2)\n",
    "\n",
    "    image = Image.new(\"RGB\", (width, height), background_color)\n",
    "    draw = ImageDraw.Draw(image)\n",
    "\n",
    "    # Calculate the starting position for the text\n",
    "    text_x = padding\n",
    "    text_y = padding\n",
    "\n",
    "    # Draw the text onto the image\n",
    "    for line in text_lines:\n",
    "        line_width, line_height = font.getsize(line)\n",
    "        draw.text((text_x, text_y), line, font=font, fill=font_color)\n",
    "        text_y += line_height + line_spacing\n",
    "\n",
    "    image.save(f\"{path}.png\")\n",
    "    "
   ]
  },
  {
   "cell_type": "code",
   "execution_count": 24,
   "metadata": {},
   "outputs": [],
   "source": [
    "for i, post in enumerate(post_list):\n",
    "    \n",
    "    for comment in post['comments']:\n",
    "        path = f\"screenshots/post-{i}/comment-{comment['id']}\"\n",
    "        makeScreenShotsForComments(comment['text'], path)\n"
   ]
  },
  {
   "cell_type": "code",
   "execution_count": 14,
   "metadata": {},
   "outputs": [],
   "source": [
    "from moviepy.editor import VideoFileClip, concatenate_videoclips\n",
    "\n",
    "def loopingBgVideo(duration, path):\n",
    "    original_clip = VideoFileClip(path)\n",
    "    original_clip = original_clip.without_audio()\n",
    "    subclip = original_clip.subclip(0, 5)\n",
    "    subclip =  subclip.resize((SS_WIDTH + 60, 1080))\n",
    "    looped_clip = concatenate_videoclips([subclip] * (duration // subclip.duration))\n",
    "    return looped_clip\n"
   ]
  },
  {
   "cell_type": "code",
   "execution_count": 25,
   "metadata": {},
   "outputs": [
    {
     "name": "stdout",
     "output_type": "stream",
     "text": [
      "Moviepy - Building video finalVideo/reel-0.mp4.\n",
      "MoviePy - Writing audio in reel-0TEMP_MPY_wvf_snd.mp3\n"
     ]
    },
    {
     "name": "stderr",
     "output_type": "stream",
     "text": [
      "                                                                   \r"
     ]
    },
    {
     "name": "stdout",
     "output_type": "stream",
     "text": [
      "MoviePy - Done.\n",
      "Moviepy - Writing video finalVideo/reel-0.mp4\n",
      "\n"
     ]
    },
    {
     "name": "stderr",
     "output_type": "stream",
     "text": [
      "                                                              \r"
     ]
    },
    {
     "name": "stdout",
     "output_type": "stream",
     "text": [
      "Moviepy - Done !\n",
      "Moviepy - video ready finalVideo/reel-0.mp4\n",
      "Moviepy - Building video finalVideo/reel-1.mp4.\n",
      "MoviePy - Writing audio in reel-1TEMP_MPY_wvf_snd.mp3\n"
     ]
    },
    {
     "name": "stderr",
     "output_type": "stream",
     "text": [
      "                                                                   \r"
     ]
    },
    {
     "name": "stdout",
     "output_type": "stream",
     "text": [
      "MoviePy - Done.\n",
      "Moviepy - Writing video finalVideo/reel-1.mp4\n",
      "\n"
     ]
    },
    {
     "name": "stderr",
     "output_type": "stream",
     "text": [
      "                                                              \r"
     ]
    },
    {
     "name": "stdout",
     "output_type": "stream",
     "text": [
      "Moviepy - Done !\n",
      "Moviepy - video ready finalVideo/reel-1.mp4\n",
      "Moviepy - Building video finalVideo/reel-2.mp4.\n",
      "MoviePy - Writing audio in reel-2TEMP_MPY_wvf_snd.mp3\n"
     ]
    },
    {
     "name": "stderr",
     "output_type": "stream",
     "text": [
      "                                                                   \r"
     ]
    },
    {
     "name": "stdout",
     "output_type": "stream",
     "text": [
      "MoviePy - Done.\n",
      "Moviepy - Writing video finalVideo/reel-2.mp4\n",
      "\n"
     ]
    },
    {
     "name": "stderr",
     "output_type": "stream",
     "text": [
      "                                                              \r"
     ]
    },
    {
     "name": "stdout",
     "output_type": "stream",
     "text": [
      "Moviepy - Done !\n",
      "Moviepy - video ready finalVideo/reel-2.mp4\n",
      "Moviepy - Building video finalVideo/reel-3.mp4.\n",
      "MoviePy - Writing audio in reel-3TEMP_MPY_wvf_snd.mp3\n"
     ]
    },
    {
     "name": "stderr",
     "output_type": "stream",
     "text": [
      "                                                                   \r"
     ]
    },
    {
     "name": "stdout",
     "output_type": "stream",
     "text": [
      "MoviePy - Done.\n",
      "Moviepy - Writing video finalVideo/reel-3.mp4\n",
      "\n"
     ]
    },
    {
     "name": "stderr",
     "output_type": "stream",
     "text": [
      "                                                                \r"
     ]
    },
    {
     "name": "stdout",
     "output_type": "stream",
     "text": [
      "Moviepy - Done !\n",
      "Moviepy - video ready finalVideo/reel-3.mp4\n",
      "Moviepy - Building video finalVideo/reel-4.mp4.\n",
      "MoviePy - Writing audio in reel-4TEMP_MPY_wvf_snd.mp3\n"
     ]
    },
    {
     "name": "stderr",
     "output_type": "stream",
     "text": [
      "                                                                   \r"
     ]
    },
    {
     "name": "stdout",
     "output_type": "stream",
     "text": [
      "MoviePy - Done.\n",
      "Moviepy - Writing video finalVideo/reel-4.mp4\n",
      "\n"
     ]
    },
    {
     "name": "stderr",
     "output_type": "stream",
     "text": [
      "                                                                "
     ]
    },
    {
     "name": "stdout",
     "output_type": "stream",
     "text": [
      "Moviepy - Done !\n",
      "Moviepy - video ready finalVideo/reel-4.mp4\n"
     ]
    },
    {
     "name": "stderr",
     "output_type": "stream",
     "text": [
      "\r"
     ]
    }
   ],
   "source": [
    "from moviepy.editor import ImageClip, AudioFileClip, CompositeVideoClip\n",
    "import math\n",
    "import random\n",
    "\n",
    "def createVideoClip(ssFile, voiceFile):\n",
    "    audioClip = AudioFileClip(voiceFile)\n",
    "    imageClip = ImageClip(ssFile).set_duration(audioClip.duration)\n",
    "    videoClip = imageClip.set_audio(audioClip)\n",
    "    return videoClip\n",
    "\n",
    "for i, post in enumerate(post_list):\n",
    "    clips = []\n",
    "    mainPostSS = f\"screenshots/post-{i}/main.png\"\n",
    "    mainPostAudio = f\"VoiceOvers/post-{i}/main.mp3\"\n",
    "    mainPostClip = createVideoClip(mainPostSS, mainPostAudio)\n",
    "\n",
    "    clips.append(mainPostClip)\n",
    "\n",
    "    start_time = mainPostClip.duration  # Set the start time for the next clip\n",
    "\n",
    "    for comment in post['comments']:\n",
    "        pathSS = f\"screenshots/post-{i}/comment-{comment['id']}.png\"\n",
    "        pathAudio = f\"VoiceOvers/post-{i}/comment-{comment['id']}.mp3\"\n",
    "        commentClip = createVideoClip(pathSS, pathAudio)\n",
    "        commentClip = commentClip.set_start(start_time)  # Set the start time for the comment clip\n",
    "        clips.append(commentClip)\n",
    "\n",
    "        start_time += commentClip.duration  # Update the start time for the next clip\n",
    "\n",
    "    bgIndex = random.randint(1, 5)\n",
    "    bgVideoPath = f\"sampleBgVideo/{bgIndex}.mp4\"\n",
    "    bgClip = loopingBgVideo(math.ceil(start_time), bgVideoPath)\n",
    "\n",
    "    # Calculate the center position of the background clip\n",
    "    bg_center_x = bgClip.w / 2\n",
    "    bg_center_y = bgClip.h / 2\n",
    "\n",
    "    # Adjust the position of each clip to center them on the background clip\n",
    "    for idx, clip in enumerate(clips):\n",
    "        clip_center_x = clip.w / 2\n",
    "        clip_center_y = clip.h / 2\n",
    "        clips[idx] = clip.set_position((bg_center_x - clip_center_x, bg_center_y - clip_center_y))\n",
    "\n",
    "    finalVideo = CompositeVideoClip(clips=[bgClip] + clips)\n",
    "\n",
    "    outputFile = f\"finalVideo/reel-{i}.mp4\"\n",
    "    # outputFile = 'test-output.mp4'\n",
    "    finalVideo.write_videofile(outputFile, codec='mpeg4', threads=12, bitrate='8000k')"
   ]
  },
  {
   "cell_type": "code",
   "execution_count": null,
   "metadata": {},
   "outputs": [],
   "source": []
  }
 ],
 "metadata": {
  "kernelspec": {
   "display_name": "space",
   "language": "python",
   "name": "python3"
  },
  "language_info": {
   "codemirror_mode": {
    "name": "ipython",
    "version": 3
   },
   "file_extension": ".py",
   "mimetype": "text/x-python",
   "name": "python",
   "nbconvert_exporter": "python",
   "pygments_lexer": "ipython3",
   "version": "3.9.2"
  },
  "orig_nbformat": 4
 },
 "nbformat": 4,
 "nbformat_minor": 2
}
