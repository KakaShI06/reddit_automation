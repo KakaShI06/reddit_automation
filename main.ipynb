{
 "cells": [
  {
   "cell_type": "code",
   "execution_count": 1,
   "metadata": {},
   "outputs": [
    {
     "data": {
      "text/plain": [
       "True"
      ]
     },
     "execution_count": 1,
     "metadata": {},
     "output_type": "execute_result"
    }
   ],
   "source": [
    "import praw\n",
    "import os\n",
    "from dotenv import load_dotenv\n",
    "\n",
    "# Load environment variables from .env file\n",
    "load_dotenv('.env')"
   ]
  },
  {
   "cell_type": "code",
   "execution_count": 2,
   "metadata": {},
   "outputs": [],
   "source": [
    "# Access and use the environment variables\n",
    "SECRET_KEY = os.getenv(\"SECRET_KEY\")\n",
    "USER_AGENT = os.getenv(\"USER_AGENT\")\n",
    "CLIENT_ID = os.getenv(\"CLIENT_ID\")"
   ]
  },
  {
   "cell_type": "code",
   "execution_count": 3,
   "metadata": {},
   "outputs": [
    {
     "name": "stdout",
     "output_type": "stream",
     "text": [
      "True\n"
     ]
    }
   ],
   "source": [
    "#Initializing reddit instance\n",
    "\n",
    "reddit = praw.Reddit(\n",
    "    client_id=CLIENT_ID,\n",
    "    client_secret=SECRET_KEY,\n",
    "    user_agent=USER_AGENT,\n",
    ")\n",
    "\n",
    "print(reddit.read_only)"
   ]
  },
  {
   "cell_type": "code",
   "execution_count": 4,
   "metadata": {},
   "outputs": [],
   "source": [
    "redditPost = reddit.subreddit(\"askreddit\")\n",
    "top_posts = redditPost.top(limit=5, time_filter=\"day\")"
   ]
  },
  {
   "cell_type": "code",
   "execution_count": 5,
   "metadata": {},
   "outputs": [],
   "source": [
    "def getCommentForPost(comments):\n",
    "    commentList = []\n",
    "\n",
    "    for comment in comments:\n",
    "        if ( len(commentList) > 5 ):\n",
    "            break\n",
    "\n",
    "        if ( len(comment.body) < 10 or len(comment.body) > 200 ):\n",
    "            continue\n",
    "        \n",
    "        comment_dic = {\n",
    "            'id': comment.id,\n",
    "            'text': comment.body\n",
    "        }\n",
    "\n",
    "        commentList.append(comment_dic)\n",
    "\n",
    "    return commentList\n"
   ]
  },
  {
   "cell_type": "code",
   "execution_count": 6,
   "metadata": {},
   "outputs": [],
   "source": [
    "# Convert individual posts to dictionaries\n",
    "post_list = []\n",
    "for post in top_posts:\n",
    "    if post.over_18:\n",
    "        continue\n",
    "\n",
    "    post_dict = {\n",
    "        'title': post.title,\n",
    "        'score': post.score,\n",
    "        'url': post.url,\n",
    "        'id': post.id,\n",
    "        'comments': getCommentForPost(post.comments)\n",
    "        # Include other desired fields here\n",
    "    }\n",
    "    post_list.append(post_dict)\n",
    "\n",
    "# Convert the list of posts to JSON format"
   ]
  },
  {
   "cell_type": "code",
   "execution_count": 7,
   "metadata": {},
   "outputs": [
    {
     "name": "stdout",
     "output_type": "stream",
     "text": [
      "[{'title': 'Adults of reddit, what is something every teenager should know about \"the real world\"?', 'score': 15446, 'url': 'https://www.reddit.com/r/AskReddit/comments/14q1o86/adults_of_reddit_what_is_something_every_teenager/', 'id': '14q1o86', 'comments': [{'id': 'jqlv9c6', 'text': \"PEOPLE LIE. Just because they're an adult doesn't mean they always tell the truth.\"}, {'id': 'jqlzfjn', 'text': '$1000 is a lot to owe but not a lot to have…'}, {'id': 'jqlff89', 'text': 'Life never “settles down”. If something is important to you then you should get to it ASAP.'}, {'id': 'jqlrako', 'text': 'For better or for worse, confidence opens as many doors as competence.'}, {'id': 'jqkztxm', 'text': 'Everything is expensive when you move out'}, {'id': 'jqlwf10', 'text': 'You know how sometimes you think to yourself \"when I\\'m an adult and have my own place I\\'ll be able to do whatever I want\"? \\n\\nMake sure whatever you want includes doing the dishes'}]}, {'title': 'Men of Reddit, if you burped in front of your girlfriend and she responded back with a louder burp, how would you react?', 'score': 5172, 'url': 'https://www.reddit.com/r/AskReddit/comments/14pza4f/men_of_reddit_if_you_burped_in_front_of_your/', 'id': '14pza4f', 'comments': [{'id': 'jqknpix', 'text': 'Well I mean, she just issued me a challenge. She threw the gauntlet down, I have to pick it up.'}, {'id': 'jqkmdfn', 'text': \"I'm going to burp back. No way in hell is she winning.\"}, {'id': 'jqloxe1', 'text': 'Look her dead in the eye and shit my pants. Dominance must be asserted.'}, {'id': 'jqkmaqp', 'text': 'A louder burp, obviously.'}, {'id': 'jql5xpa', 'text': \"The last girl I dated, I farted in bed with her. She forced out a fart back at me. She was the last cus we're married now.\"}, {'id': 'jqlp4sa', 'text': 'My wife does this. She wins every time.\\n\\nShe’s fucking hot.'}]}, {'title': \"What's the worst food to get hit by in a food fight?\", 'score': 1793, 'url': 'https://www.reddit.com/r/AskReddit/comments/14qdyye/whats_the_worst_food_to_get_hit_by_in_a_food_fight/', 'id': '14qdyye', 'comments': [{'id': 'jqmj4xj', 'text': 'Coconuts. Palm trees throw these fuckers and kill approx 150 people per year.'}, {'id': 'jqmq9k5', 'text': 'For physical pain - coconut.  Sensory pain - ghost pepper powder/seeds to the eyes/face. Just flat out ruin your day and make you shower - Warm milk'}, {'id': 'jqmkkv4', 'text': 'Surströmming'}, {'id': 'jqmj56c', 'text': \"Carton of chocolate milk. You can't just go about your day. You I literally need a shower\"}, {'id': 'jqmjeu8', 'text': 'Anything large and frozen'}, {'id': 'jqmj4u4', 'text': 'Sloppy Joe'}]}, {'title': 'What is the worst thing your EX said during the breakup?', 'score': 1613, 'url': 'https://www.reddit.com/r/AskReddit/comments/14q3bh2/what_is_the_worst_thing_your_ex_said_during_the/', 'id': '14q3bh2', 'comments': [{'id': 'jqm2dqe', 'text': 'My 2nd two year relationship, “I feel disgusted when I touch you” that ate at me for a while. Much healthier and happy spot now.'}, {'id': 'jqlh6ac', 'text': 'I can have any guy in this room, why would I want to be with you.'}, {'id': 'jqm4bmk', 'text': \"Justifying her cheating because she thought I was cheating on her.\\n\\nI wasn't.\"}, {'id': 'jqlu12h', 'text': 'I wish we never met.'}, {'id': 'jqmq8g8', 'text': 'Both \"I love you\" and very short time later \"I know we can fix it, I just don\\'t want to.\"   This is from ex-wife'}, {'id': 'jqm0fh1', 'text': 'I wish you didn’t get better. It would have been so much easier that way.'}]}]\n"
     ]
    }
   ],
   "source": [
    "print(post_list)"
   ]
  },
  {
   "cell_type": "code",
   "execution_count": 8,
   "metadata": {},
   "outputs": [
    {
     "name": "stdout",
     "output_type": "stream",
     "text": [
      "{'title': 'Adults of reddit, what is something every teenager should know about \"the real world\"?', 'score': 15446, 'url': 'https://www.reddit.com/r/AskReddit/comments/14q1o86/adults_of_reddit_what_is_something_every_teenager/', 'id': '14q1o86', 'comments': [{'id': 'jqlv9c6', 'text': \"PEOPLE LIE. Just because they're an adult doesn't mean they always tell the truth.\"}, {'id': 'jqlzfjn', 'text': '$1000 is a lot to owe but not a lot to have…'}, {'id': 'jqlff89', 'text': 'Life never “settles down”. If something is important to you then you should get to it ASAP.'}, {'id': 'jqlrako', 'text': 'For better or for worse, confidence opens as many doors as competence.'}, {'id': 'jqkztxm', 'text': 'Everything is expensive when you move out'}, {'id': 'jqlwf10', 'text': 'You know how sometimes you think to yourself \"when I\\'m an adult and have my own place I\\'ll be able to do whatever I want\"? \\n\\nMake sure whatever you want includes doing the dishes'}]}\n",
      "{'title': 'Men of Reddit, if you burped in front of your girlfriend and she responded back with a louder burp, how would you react?', 'score': 5172, 'url': 'https://www.reddit.com/r/AskReddit/comments/14pza4f/men_of_reddit_if_you_burped_in_front_of_your/', 'id': '14pza4f', 'comments': [{'id': 'jqknpix', 'text': 'Well I mean, she just issued me a challenge. She threw the gauntlet down, I have to pick it up.'}, {'id': 'jqkmdfn', 'text': \"I'm going to burp back. No way in hell is she winning.\"}, {'id': 'jqloxe1', 'text': 'Look her dead in the eye and shit my pants. Dominance must be asserted.'}, {'id': 'jqkmaqp', 'text': 'A louder burp, obviously.'}, {'id': 'jql5xpa', 'text': \"The last girl I dated, I farted in bed with her. She forced out a fart back at me. She was the last cus we're married now.\"}, {'id': 'jqlp4sa', 'text': 'My wife does this. She wins every time.\\n\\nShe’s fucking hot.'}]}\n",
      "{'title': \"What's the worst food to get hit by in a food fight?\", 'score': 1793, 'url': 'https://www.reddit.com/r/AskReddit/comments/14qdyye/whats_the_worst_food_to_get_hit_by_in_a_food_fight/', 'id': '14qdyye', 'comments': [{'id': 'jqmj4xj', 'text': 'Coconuts. Palm trees throw these fuckers and kill approx 150 people per year.'}, {'id': 'jqmq9k5', 'text': 'For physical pain - coconut.  Sensory pain - ghost pepper powder/seeds to the eyes/face. Just flat out ruin your day and make you shower - Warm milk'}, {'id': 'jqmkkv4', 'text': 'Surströmming'}, {'id': 'jqmj56c', 'text': \"Carton of chocolate milk. You can't just go about your day. You I literally need a shower\"}, {'id': 'jqmjeu8', 'text': 'Anything large and frozen'}, {'id': 'jqmj4u4', 'text': 'Sloppy Joe'}]}\n",
      "{'title': 'What is the worst thing your EX said during the breakup?', 'score': 1613, 'url': 'https://www.reddit.com/r/AskReddit/comments/14q3bh2/what_is_the_worst_thing_your_ex_said_during_the/', 'id': '14q3bh2', 'comments': [{'id': 'jqm2dqe', 'text': 'My 2nd two year relationship, “I feel disgusted when I touch you” that ate at me for a while. Much healthier and happy spot now.'}, {'id': 'jqlh6ac', 'text': 'I can have any guy in this room, why would I want to be with you.'}, {'id': 'jqm4bmk', 'text': \"Justifying her cheating because she thought I was cheating on her.\\n\\nI wasn't.\"}, {'id': 'jqlu12h', 'text': 'I wish we never met.'}, {'id': 'jqmq8g8', 'text': 'Both \"I love you\" and very short time later \"I know we can fix it, I just don\\'t want to.\"   This is from ex-wife'}, {'id': 'jqm0fh1', 'text': 'I wish you didn’t get better. It would have been so much easier that way.'}]}\n"
     ]
    }
   ],
   "source": [
    "for post in post_list:\n",
    "    print(post)"
   ]
  },
  {
   "cell_type": "code",
   "execution_count": 9,
   "metadata": {},
   "outputs": [
    {
     "name": "stdout",
     "output_type": "stream",
     "text": [
      "Adults of reddit, what is something every teenager should know about \"the real world\"?\n",
      "Men of Reddit, if you burped in front of your girlfriend and she responded back with a louder burp, how would you react?\n",
      "What's the worst food to get hit by in a food fight?\n",
      "What is the worst thing your EX said during the breakup?\n"
     ]
    }
   ],
   "source": [
    "for i, post in enumerate(post_list):\n",
    "    print(post['title'])"
   ]
  },
  {
   "cell_type": "code",
   "execution_count": 10,
   "metadata": {},
   "outputs": [],
   "source": [
    "from controllers.voice_over import createVoiceOver, createVoiceOverPost\n",
    "\n",
    "for i, post in enumerate(post_list):\n",
    "    createVoiceOverPost(i, post['title'])\n",
    "    \n",
    "    for comment in post['comments']:\n",
    "        createVoiceOver(comment['id'], comment['text'], i)\n"
   ]
  },
  {
   "cell_type": "code",
   "execution_count": 11,
   "metadata": {},
   "outputs": [
    {
     "name": "stdout",
     "output_type": "stream",
     "text": [
      "target_id t3_14q1o86\n",
      "Element not found in the DOM.\n",
      "target_id t3_14pza4f\n",
      "Element not found in the DOM.\n",
      "target_id t3_14qdyye\n",
      "Element not found in the DOM.\n",
      "target_id t3_14q3bh2\n",
      "Element not found in the DOM.\n"
     ]
    }
   ],
   "source": [
    "from selenium import webdriver\n",
    "from selenium import webdriver\n",
    "from selenium.webdriver.common.by import By\n",
    "from selenium.webdriver.support.ui import WebDriverWait\n",
    "from selenium.webdriver.support import expected_conditions as EC\n",
    "from selenium.common.exceptions import NoSuchElementException\n",
    "from constants import SS_HEIGHT, SS_WIDTH, screenshotDir\n",
    "import os\n",
    "\n",
    "screenWidth = SS_WIDTH\n",
    "screenHeight = SS_HEIGHT\n",
    "\n",
    "def takingSS(driver, wait, target_id, fileName):\n",
    "    print('target_id', target_id)\n",
    "    element = wait.until(EC.presence_of_element_located((By.ID, target_id)))\n",
    "    \n",
    "    try:\n",
    "        closeId = 'close'\n",
    "        ele = driver.find_element(By.ID, closeId)\n",
    "        ele.click()\n",
    "        print(\"Element found and clicked!\")\n",
    "    except NoSuchElementException:\n",
    "        print(\"Element not found in the DOM.\")\n",
    "\n",
    "    driver.execute_script(\"window.focus();\")\n",
    "    ss = f'{fileName}.png'\n",
    "    fp = open(ss, \"wb\")\n",
    "    fp.write(element.screenshot_as_png)\n",
    "    fp.close()\n",
    "\n",
    "def initiateDriver(post):\n",
    "    options = webdriver.ChromeOptions()\n",
    "    options.enable_mobile = False\n",
    "    options.add_argument('-headless')\n",
    "    driver = webdriver.Chrome(options=options)\n",
    "    url = post['url']\n",
    "    driver.get(url)\n",
    "    \n",
    "    wait = WebDriverWait(driver, 10)\n",
    "    driver.set_window_size(width=screenWidth, height=screenHeight)\n",
    "\n",
    "    return driver, wait\n",
    "\n",
    "for i, post in enumerate(post_list):\n",
    "    driver, wait = initiateDriver(post)\n",
    "    fileName = f'screenshots/post-{i}'\n",
    "    os.mkdir(fileName)\n",
    "    prefix = f'{fileName}/main'\n",
    "    post_id = f\"t3_{post['id']}\"\n",
    "    takingSS(driver, wait, post_id, prefix)\n",
    "    driver.quit()"
   ]
  },
  {
   "cell_type": "code",
   "execution_count": 12,
   "metadata": {},
   "outputs": [],
   "source": [
    "from PIL import Image, ImageDraw, ImageFont\n",
    "import textwrap\n",
    "\n",
    "def makeScreenShotsForComments(text, path, font_size = 14):\n",
    "    font_color = (0, 0, 0)  # RGB color for the font\n",
    "    font_path = \"font\\Roboto-Black.ttf\"  # Replace with the path to your desired font file\n",
    "\n",
    "    # Create a new image with a white background\n",
    "    background_color = (255, 255, 255)  # RGB color for the background\n",
    "    width = 400\n",
    "    padding = 10  # Padding around the text\n",
    "    line_spacing = 4  # Spacing between lines of text\n",
    "\n",
    "    font = ImageFont.truetype(font_path, font_size)\n",
    "    text_lines = textwrap.wrap(text, width=60)  # Adjust the width parameter as desired\n",
    "\n",
    "    # Calculate the height of the image based on the text length\n",
    "    line_height = font.getsize(\"Sample\")[1]\n",
    "    text_height = (line_height + line_spacing) * len(text_lines)\n",
    "    height = text_height + (padding * 2)\n",
    "\n",
    "    image = Image.new(\"RGB\", (width, height), background_color)\n",
    "    draw = ImageDraw.Draw(image)\n",
    "\n",
    "    # Calculate the starting position for the text\n",
    "    text_x = padding\n",
    "    text_y = padding\n",
    "\n",
    "    # Draw the text onto the image\n",
    "    for line in text_lines:\n",
    "        line_width, line_height = font.getsize(line)\n",
    "        draw.text((text_x, text_y), line, font=font, fill=font_color)\n",
    "        text_y += line_height + line_spacing\n",
    "\n",
    "    image.save(f\"{path}.png\")\n",
    "    "
   ]
  },
  {
   "cell_type": "code",
   "execution_count": 13,
   "metadata": {},
   "outputs": [
    {
     "name": "stderr",
     "output_type": "stream",
     "text": [
      "C:\\Users\\acer\\AppData\\Local\\Temp\\ipykernel_3684\\3021440192.py:18: DeprecationWarning: getsize is deprecated and will be removed in Pillow 10 (2023-07-01). Use getbbox or getlength instead.\n",
      "  line_height = font.getsize(\"Sample\")[1]\n",
      "C:\\Users\\acer\\AppData\\Local\\Temp\\ipykernel_3684\\3021440192.py:31: DeprecationWarning: getsize is deprecated and will be removed in Pillow 10 (2023-07-01). Use getbbox or getlength instead.\n",
      "  line_width, line_height = font.getsize(line)\n"
     ]
    }
   ],
   "source": [
    "for i, post in enumerate(post_list):\n",
    "    \n",
    "    for comment in post['comments']:\n",
    "        path = f\"screenshots/post-{i}/comment-{comment['id']}\"\n",
    "        makeScreenShotsForComments(comment['text'], path)\n"
   ]
  },
  {
   "cell_type": "code",
   "execution_count": 23,
   "metadata": {},
   "outputs": [
    {
     "name": "stdout",
     "output_type": "stream",
     "text": [
      "Moviepy - Building video test-output.mp4.\n",
      "MoviePy - Writing audio in test-outputTEMP_MPY_wvf_snd.mp3\n"
     ]
    },
    {
     "name": "stderr",
     "output_type": "stream",
     "text": [
      "                                                                   \r"
     ]
    },
    {
     "name": "stdout",
     "output_type": "stream",
     "text": [
      "MoviePy - Done.\n",
      "Moviepy - Writing video test-output.mp4\n",
      "\n"
     ]
    },
    {
     "name": "stderr",
     "output_type": "stream",
     "text": [
      "                                                               "
     ]
    },
    {
     "name": "stdout",
     "output_type": "stream",
     "text": [
      "Moviepy - Done !\n",
      "Moviepy - video ready test-output.mp4\n"
     ]
    },
    {
     "name": "stderr",
     "output_type": "stream",
     "text": [
      "\r"
     ]
    }
   ],
   "source": [
    "from moviepy.editor import ImageClip, AudioFileClip, VideoFileClip, CompositeVideoClip\n",
    "import random\n",
    "\n",
    "def createVideoClip(ssFile, voiceFile):\n",
    "    audioClip = AudioFileClip(voiceFile)\n",
    "    imageClip = ImageClip(ssFile).set_duration(audioClip.duration)\n",
    "    videoClip = imageClip.set_audio(audioClip)\n",
    "    return videoClip\n",
    "\n",
    "for i, post in enumerate(post_list):\n",
    "    clips = []\n",
    "    mainPostSS = f\"screenshots/post-{i}/main.png\"\n",
    "    mainPostAudio = f\"VoiceOvers/post-{i}/main.mp3\"\n",
    "    mainPostClip = createVideoClip(mainPostSS, mainPostAudio)\n",
    "\n",
    "    clips.append(mainPostClip)\n",
    "\n",
    "    start_time = mainPostClip.duration  # Set the start time for the next clip\n",
    "\n",
    "    for comment in post['comments']:\n",
    "        pathSS = f\"screenshots/post-{i}/comment-{comment['id']}.png\"\n",
    "        pathAudio = f\"VoiceOvers/post-{i}/comment-{comment['id']}.mp3\"\n",
    "        commentClip = createVideoClip(pathSS, pathAudio)\n",
    "        commentClip = commentClip.set_start(start_time)  # Set the start time for the comment clip\n",
    "        clips.append(commentClip)\n",
    "\n",
    "        start_time += commentClip.duration  # Update the start time for the next clip\n",
    "\n",
    "    bgIndex = random.randint(1, 4)\n",
    "    bgVideoPath = f\"sampleBgVideo/{bgIndex}.mp4\"\n",
    "    bgClip = VideoFileClip(bgVideoPath)\n",
    "\n",
    "    finalVideo = CompositeVideoClip(clips=[bgClip] + clips)\n",
    "\n",
    "    # outputFile = f\"finalVideo/reel-{i}.mp4\"\n",
    "    outputFile = 'test-output.mp4'\n",
    "    finalVideo.write_videofile(outputFile, codec='mpeg4', threads=12, bitrate='8000k')\n",
    "\n",
    "    break\n"
   ]
  },
  {
   "cell_type": "code",
   "execution_count": 22,
   "metadata": {},
   "outputs": [
    {
     "name": "stdout",
     "output_type": "stream",
     "text": [
      "Moviepy - Building video finalVideo/reel-0.mp4.\n",
      "MoviePy - Writing audio in reel-0TEMP_MPY_wvf_snd.mp3\n"
     ]
    },
    {
     "name": "stderr",
     "output_type": "stream",
     "text": [
      "                                                                      \r"
     ]
    },
    {
     "name": "stdout",
     "output_type": "stream",
     "text": [
      "MoviePy - Done.\n",
      "Moviepy - Writing video finalVideo/reel-0.mp4\n",
      "\n"
     ]
    },
    {
     "name": "stderr",
     "output_type": "stream",
     "text": [
      "                                                                \r"
     ]
    },
    {
     "name": "stdout",
     "output_type": "stream",
     "text": [
      "Moviepy - Done !\n",
      "Moviepy - video ready finalVideo/reel-0.mp4\n"
     ]
    }
   ],
   "source": [
    "from moviepy.editor import ImageClip, AudioFileClip, VideoFileClip, concatenate_videoclips\n",
    "import random\n",
    "\n",
    "def createVideoClip(ssFile, voiceFile):\n",
    "    audioClip = AudioFileClip(voiceFile)\n",
    "    imageClip = ImageClip(ssFile).set_duration(audioClip.duration)\n",
    "    videoClip = imageClip.set_audio(audioClip)\n",
    "    return videoClip\n",
    "\n",
    "for i, post in enumerate(post_list):\n",
    "    clips = []\n",
    "    mainPostSS = f\"screenshots/post-{i}/main.png\"\n",
    "    mainPostAudio = f\"VoiceOvers/post-{i}/main.mp3\"\n",
    "    mainPostClip = createVideoClip(mainPostSS, mainPostAudio)\n",
    "    clips.append(mainPostClip)\n",
    "\n",
    "    start_time = mainPostClip.duration\n",
    "\n",
    "    for comment in post['comments']:\n",
    "        pathSS = f\"screenshots/post-{i}/comment-{comment['id']}.png\"\n",
    "        pathAudio = f\"VoiceOvers/post-{i}/comment-{comment['id']}.mp3\"\n",
    "        commentClip = createVideoClip(pathSS, pathAudio)\n",
    "        commentClip = commentClip.set_start(start_time)\n",
    "        clips.append(commentClip)\n",
    "        start_time += commentClip.duration\n",
    "\n",
    "    bgIndex = random.randint(1, 4)\n",
    "    bgVideoPath = f\"sampleBgVideo/{bgIndex}.mp4\"\n",
    "    bgClip = VideoFileClip(bgVideoPath)\n",
    "\n",
    "    # Set the duration of the background clip\n",
    "    total_duration = sum(clip.duration for clip in clips)\n",
    "    bgClip = bgClip.set_duration(total_duration)\n",
    "\n",
    "    finalVideo = concatenate_videoclips(clips=[bgClip] + clips, method=\"compose\")\n",
    "\n",
    "    outputFile = f\"finalVideo/reel-{i}.mp4\"\n",
    "    finalVideo.write_videofile(outputFile, codec='mpeg4', threads=12, bitrate='8000k')\n",
    "\n",
    "    break\n"
   ]
  },
  {
   "cell_type": "code",
   "execution_count": null,
   "metadata": {},
   "outputs": [],
   "source": []
  }
 ],
 "metadata": {
  "kernelspec": {
   "display_name": "space",
   "language": "python",
   "name": "python3"
  },
  "language_info": {
   "codemirror_mode": {
    "name": "ipython",
    "version": 3
   },
   "file_extension": ".py",
   "mimetype": "text/x-python",
   "name": "python",
   "nbconvert_exporter": "python",
   "pygments_lexer": "ipython3",
   "version": "3.9.2"
  },
  "orig_nbformat": 4
 },
 "nbformat": 4,
 "nbformat_minor": 2
}
