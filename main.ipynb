{
 "cells": [
  {
   "cell_type": "code",
   "execution_count": 2,
   "metadata": {},
   "outputs": [
    {
     "data": {
      "text/plain": [
       "True"
      ]
     },
     "execution_count": 2,
     "metadata": {},
     "output_type": "execute_result"
    }
   ],
   "source": [
    "import praw\n",
    "import os\n",
    "from dotenv import load_dotenv\n",
    "\n",
    "# Load environment variables from .env file\n",
    "load_dotenv('.env')"
   ]
  },
  {
   "cell_type": "code",
   "execution_count": 3,
   "metadata": {},
   "outputs": [],
   "source": [
    "# Access and use the environment variables\n",
    "SECRET_KEY = os.getenv(\"SECRET_KEY\")\n",
    "USER_AGENT = os.getenv(\"USER_AGENT\")\n",
    "CLIENT_ID = os.getenv(\"CLIENT_ID\")"
   ]
  },
  {
   "cell_type": "code",
   "execution_count": 4,
   "metadata": {},
   "outputs": [
    {
     "name": "stdout",
     "output_type": "stream",
     "text": [
      "True\n"
     ]
    }
   ],
   "source": [
    "#Initializing reddit instance\n",
    "\n",
    "reddit = praw.Reddit(\n",
    "    client_id=CLIENT_ID,\n",
    "    client_secret=SECRET_KEY,\n",
    "    user_agent=USER_AGENT,\n",
    ")\n",
    "\n",
    "print(reddit.read_only)"
   ]
  },
  {
   "cell_type": "code",
   "execution_count": 5,
   "metadata": {},
   "outputs": [],
   "source": [
    "redditPost = reddit.subreddit(\"askreddit\")\n",
    "top_posts = redditPost.top(limit=5, time_filter=\"day\")"
   ]
  },
  {
   "cell_type": "code",
   "execution_count": 6,
   "metadata": {},
   "outputs": [],
   "source": [
    "def getCommentForPost(comments):\n",
    "    commentList = []\n",
    "\n",
    "    for comment in comments:\n",
    "        if ( len(commentList) > 5 ):\n",
    "            break\n",
    "\n",
    "        if ( len(comment.body) < 10 or len(comment.body) > 200 ):\n",
    "            continue\n",
    "        \n",
    "        comment_dic = {\n",
    "            'id': comment.id,\n",
    "            'text': comment.body\n",
    "        }\n",
    "\n",
    "        commentList.append(comment_dic)\n",
    "\n",
    "    return commentList\n"
   ]
  },
  {
   "cell_type": "code",
   "execution_count": 7,
   "metadata": {},
   "outputs": [],
   "source": [
    "# Convert individual posts to dictionaries\n",
    "post_list = []\n",
    "for post in top_posts:\n",
    "    if post.over_18:\n",
    "        continue\n",
    "\n",
    "    post_dict = {\n",
    "        'title': post.title,\n",
    "        'score': post.score,\n",
    "        'url': post.url,\n",
    "        'id': post.id,\n",
    "        'comments': getCommentForPost(post.comments)\n",
    "        # Include other desired fields here\n",
    "    }\n",
    "    post_list.append(post_dict)\n",
    "\n",
    "# Convert the list of posts to JSON format"
   ]
  },
  {
   "cell_type": "code",
   "execution_count": 8,
   "metadata": {},
   "outputs": [
    {
     "name": "stdout",
     "output_type": "stream",
     "text": [
      "[{'title': 'What’s the best example of “it takes 20 years to build a reputation and five minutes to ruin it” that you know of?', 'score': 10265, 'url': 'https://www.reddit.com/r/AskReddit/comments/14tfr7k/whats_the_best_example_of_it_takes_20_years_to/', 'id': '14tfr7k', 'comments': [{'id': 'jr35iwa', 'text': \"A minister in my hometown died of autoerotic asphyxiation.  His congretation didn't even hold a service for him.  His family disappeared and within a week it was like he had never existed.\"}, {'id': 'jr3ytmz', 'text': 'Ellen DeGeneres.  She had a reputation for years of being kind and down to earth. Until the accusations started coming out that she was a real dick to a lot of people and not kind like she portrayed.'}, {'id': 'jr2477l', 'text': 'The backlash on Will Smith for the slap'}, {'id': 'jr2tkns', 'text': 'Ashlee Simpson and the lip synching, jig dancing debacle.'}, {'id': 'jr274tc', 'text': 'I know this has been said before, but the utterly embarrassing Fox interview between Jesse Waters and an anti-work mod.'}, {'id': 'jr2g1z2', 'text': 'Jared, from subway'}]}, {'title': \"What's one food that you cannot understand why people enjoy?\", 'score': 4185, 'url': 'https://www.reddit.com/r/AskReddit/comments/14tcdaj/whats_one_food_that_you_cannot_understand_why/', 'id': '14tcdaj', 'comments': [{'id': 'jr22i90', 'text': \"London's jellied eels. Wtf.\"}, {'id': 'jr1uy4w', 'text': \"What's that Norwegian dish that smells like sin and you have to bury it? Someone out there likes it and they are wrong.\"}, {'id': 'jr1wbag', 'text': 'Gefilte Fish. My dad and practically everyone on his side of the family loves the stuff, but I can’t stand it.'}, {'id': 'jr1pqtx', 'text': 'Chitins… of,all the food available someone is choosing shit shoots. Smh'}, {'id': 'jr1obfe', 'text': \"Cou-Cou, it's part of our national dish and it just tastes awful to me but any time I say I don't like it someone tells me the person who made it probably didn't make it right.\"}, {'id': 'jr1vf5u', 'text': 'For some reason chicken feet gross me out.'}]}, {'title': 'What’s a profession that’s occupied exclusively by terrible people?', 'score': 2964, 'url': 'https://www.reddit.com/r/AskReddit/comments/14tc6zu/whats_a_profession_thats_occupied_exclusively_by/', 'id': '14tc6zu', 'comments': [{'id': 'jr28ckc', 'text': 'that job that eleanor was on The Good Place, a sales rep for fake pharmaceuticals to people'}, {'id': 'jr2iifo', 'text': 'Anyone involved with children’s beauty pageants. ANYONE.'}, {'id': 'jr1p48s', 'text': 'MLM executive'}, {'id': 'jr1jdbf', 'text': 'Phone scammers'}, {'id': 'jr2aaf8', 'text': 'Time share sales'}, {'id': 'jr1jj9v', 'text': 'Paparazzi.'}]}, {'title': 'What’s a tell tale sign someone is bullshitting you?', 'score': 2344, 'url': 'https://www.reddit.com/r/AskReddit/comments/14tnll2/whats_a_tell_tale_sign_someone_is_bullshitting_you/', 'id': '14tnll2', 'comments': [{'id': 'jr3muid', 'text': \"They're somehow full of--and lacking--specific information at the same time.\"}, {'id': 'jr3d2ym', 'text': 'You can trust me'}, {'id': 'jr3ezmc', 'text': \"They oversell the point with details that aren't needed.\"}, {'id': 'jr3auzg', 'text': \"They get really bitchy when you question what they're telling you\"}, {'id': 'jr4atxm', 'text': 'They enter the ER with something up their arse.'}, {'id': 'jr3hs36', 'text': 'The ask the question you just asked back to you. \\n\\n\"Are you really a doctor?\"\\n\\n\"Am I really a doctor?\"\\n\\nDefinitely not a doctor.'}]}, {'title': 'My cousins from Poland are visiting the U.S. and want to watch an “American Film”, what movies would you recommend?', 'score': 2041, 'url': 'https://www.reddit.com/r/AskReddit/comments/14tqsz3/my_cousins_from_poland_are_visiting_the_us_and/', 'id': '14tqsz3', 'comments': [{'id': 'jr3spvz', 'text': 'The Sandlot is pure Americana'}, {'id': 'jr3sliy', 'text': '1) A Spielberg film: Jaws, ET, or Jurassic Park\\n\\n\\n2) An animated film: Toy Story, any of the classic Disney movies.\\n\\n\\n\\n\\n3) A classic blockbuster: Grease, The Sandlot, Stand by Me.'}, {'id': 'jr3sg3t', 'text': 'BACK TO THE FUTURE'}, {'id': 'jr3smal', 'text': 'Independence Day. Duh!'}, {'id': 'jr3swns', 'text': 'Forest Gump\\n\\nEdit: I guess I didn’t realize his name has 2 Rs. Oops! Forrest Gump y’all ;-)'}, {'id': 'jr3xuxa', 'text': 'My Cousin Vinny'}]}]\n"
     ]
    }
   ],
   "source": [
    "print(post_list)"
   ]
  },
  {
   "cell_type": "code",
   "execution_count": 9,
   "metadata": {},
   "outputs": [
    {
     "name": "stdout",
     "output_type": "stream",
     "text": [
      "{'title': 'What’s the best example of “it takes 20 years to build a reputation and five minutes to ruin it” that you know of?', 'score': 10265, 'url': 'https://www.reddit.com/r/AskReddit/comments/14tfr7k/whats_the_best_example_of_it_takes_20_years_to/', 'id': '14tfr7k', 'comments': [{'id': 'jr35iwa', 'text': \"A minister in my hometown died of autoerotic asphyxiation.  His congretation didn't even hold a service for him.  His family disappeared and within a week it was like he had never existed.\"}, {'id': 'jr3ytmz', 'text': 'Ellen DeGeneres.  She had a reputation for years of being kind and down to earth. Until the accusations started coming out that she was a real dick to a lot of people and not kind like she portrayed.'}, {'id': 'jr2477l', 'text': 'The backlash on Will Smith for the slap'}, {'id': 'jr2tkns', 'text': 'Ashlee Simpson and the lip synching, jig dancing debacle.'}, {'id': 'jr274tc', 'text': 'I know this has been said before, but the utterly embarrassing Fox interview between Jesse Waters and an anti-work mod.'}, {'id': 'jr2g1z2', 'text': 'Jared, from subway'}]}\n",
      "{'title': \"What's one food that you cannot understand why people enjoy?\", 'score': 4185, 'url': 'https://www.reddit.com/r/AskReddit/comments/14tcdaj/whats_one_food_that_you_cannot_understand_why/', 'id': '14tcdaj', 'comments': [{'id': 'jr22i90', 'text': \"London's jellied eels. Wtf.\"}, {'id': 'jr1uy4w', 'text': \"What's that Norwegian dish that smells like sin and you have to bury it? Someone out there likes it and they are wrong.\"}, {'id': 'jr1wbag', 'text': 'Gefilte Fish. My dad and practically everyone on his side of the family loves the stuff, but I can’t stand it.'}, {'id': 'jr1pqtx', 'text': 'Chitins… of,all the food available someone is choosing shit shoots. Smh'}, {'id': 'jr1obfe', 'text': \"Cou-Cou, it's part of our national dish and it just tastes awful to me but any time I say I don't like it someone tells me the person who made it probably didn't make it right.\"}, {'id': 'jr1vf5u', 'text': 'For some reason chicken feet gross me out.'}]}\n",
      "{'title': 'What’s a profession that’s occupied exclusively by terrible people?', 'score': 2964, 'url': 'https://www.reddit.com/r/AskReddit/comments/14tc6zu/whats_a_profession_thats_occupied_exclusively_by/', 'id': '14tc6zu', 'comments': [{'id': 'jr28ckc', 'text': 'that job that eleanor was on The Good Place, a sales rep for fake pharmaceuticals to people'}, {'id': 'jr2iifo', 'text': 'Anyone involved with children’s beauty pageants. ANYONE.'}, {'id': 'jr1p48s', 'text': 'MLM executive'}, {'id': 'jr1jdbf', 'text': 'Phone scammers'}, {'id': 'jr2aaf8', 'text': 'Time share sales'}, {'id': 'jr1jj9v', 'text': 'Paparazzi.'}]}\n",
      "{'title': 'What’s a tell tale sign someone is bullshitting you?', 'score': 2344, 'url': 'https://www.reddit.com/r/AskReddit/comments/14tnll2/whats_a_tell_tale_sign_someone_is_bullshitting_you/', 'id': '14tnll2', 'comments': [{'id': 'jr3muid', 'text': \"They're somehow full of--and lacking--specific information at the same time.\"}, {'id': 'jr3d2ym', 'text': 'You can trust me'}, {'id': 'jr3ezmc', 'text': \"They oversell the point with details that aren't needed.\"}, {'id': 'jr3auzg', 'text': \"They get really bitchy when you question what they're telling you\"}, {'id': 'jr4atxm', 'text': 'They enter the ER with something up their arse.'}, {'id': 'jr3hs36', 'text': 'The ask the question you just asked back to you. \\n\\n\"Are you really a doctor?\"\\n\\n\"Am I really a doctor?\"\\n\\nDefinitely not a doctor.'}]}\n",
      "{'title': 'My cousins from Poland are visiting the U.S. and want to watch an “American Film”, what movies would you recommend?', 'score': 2041, 'url': 'https://www.reddit.com/r/AskReddit/comments/14tqsz3/my_cousins_from_poland_are_visiting_the_us_and/', 'id': '14tqsz3', 'comments': [{'id': 'jr3spvz', 'text': 'The Sandlot is pure Americana'}, {'id': 'jr3sliy', 'text': '1) A Spielberg film: Jaws, ET, or Jurassic Park\\n\\n\\n2) An animated film: Toy Story, any of the classic Disney movies.\\n\\n\\n\\n\\n3) A classic blockbuster: Grease, The Sandlot, Stand by Me.'}, {'id': 'jr3sg3t', 'text': 'BACK TO THE FUTURE'}, {'id': 'jr3smal', 'text': 'Independence Day. Duh!'}, {'id': 'jr3swns', 'text': 'Forest Gump\\n\\nEdit: I guess I didn’t realize his name has 2 Rs. Oops! Forrest Gump y’all ;-)'}, {'id': 'jr3xuxa', 'text': 'My Cousin Vinny'}]}\n"
     ]
    }
   ],
   "source": [
    "for post in post_list:\n",
    "    print(post)"
   ]
  },
  {
   "cell_type": "code",
   "execution_count": 10,
   "metadata": {},
   "outputs": [
    {
     "name": "stdout",
     "output_type": "stream",
     "text": [
      "What’s the best example of “it takes 20 years to build a reputation and five minutes to ruin it” that you know of?\n",
      "What's one food that you cannot understand why people enjoy?\n",
      "What’s a profession that’s occupied exclusively by terrible people?\n",
      "What’s a tell tale sign someone is bullshitting you?\n",
      "My cousins from Poland are visiting the U.S. and want to watch an “American Film”, what movies would you recommend?\n"
     ]
    }
   ],
   "source": [
    "for i, post in enumerate(post_list):\n",
    "    print(post['title'])"
   ]
  },
  {
   "cell_type": "code",
   "execution_count": 11,
   "metadata": {},
   "outputs": [],
   "source": [
    "from controllers.voice_over import createVoiceOver, createVoiceOverPost\n",
    "\n",
    "for i, post in enumerate(post_list):\n",
    "    createVoiceOverPost(i, post['title'])\n",
    "    \n",
    "    for comment in post['comments']:\n",
    "        createVoiceOver(comment['id'], comment['text'], i)\n"
   ]
  },
  {
   "cell_type": "code",
   "execution_count": 12,
   "metadata": {},
   "outputs": [
    {
     "name": "stdout",
     "output_type": "stream",
     "text": [
      "target_id t3_14tfr7k\n",
      "Element not found in the DOM.\n",
      "target_id t3_14tcdaj\n",
      "Element not found in the DOM.\n",
      "target_id t3_14tc6zu\n",
      "Element not found in the DOM.\n",
      "target_id t3_14tnll2\n",
      "Element not found in the DOM.\n",
      "target_id t3_14tqsz3\n",
      "Element not found in the DOM.\n"
     ]
    }
   ],
   "source": [
    "from selenium import webdriver\n",
    "from selenium import webdriver\n",
    "from selenium.webdriver.common.by import By\n",
    "from selenium.webdriver.support.ui import WebDriverWait\n",
    "from selenium.webdriver.support import expected_conditions as EC\n",
    "from selenium.common.exceptions import NoSuchElementException\n",
    "from constants import SS_HEIGHT, SS_WIDTH, screenshotDir\n",
    "import os\n",
    "\n",
    "screenWidth = SS_WIDTH\n",
    "screenHeight = SS_HEIGHT\n",
    "\n",
    "def takingSS(driver, wait, target_id, fileName):\n",
    "    print('target_id', target_id)\n",
    "    element = wait.until(EC.presence_of_element_located((By.ID, target_id)))\n",
    "    \n",
    "    try:\n",
    "        closeId = 'close'\n",
    "        ele = driver.find_element(By.ID, closeId)\n",
    "        ele.click()\n",
    "        print(\"Element found and clicked!\")\n",
    "    except NoSuchElementException:\n",
    "        print(\"Element not found in the DOM.\")\n",
    "\n",
    "    driver.execute_script(\"window.focus();\")\n",
    "    ss = f'{fileName}.png'\n",
    "    fp = open(ss, \"wb\")\n",
    "    fp.write(element.screenshot_as_png)\n",
    "    fp.close()\n",
    "\n",
    "def initiateDriver(post):\n",
    "    options = webdriver.ChromeOptions()\n",
    "    options.enable_mobile = False\n",
    "    options.add_argument('-headless')\n",
    "    driver = webdriver.Chrome(options=options)\n",
    "    url = post['url']\n",
    "    driver.get(url)\n",
    "    \n",
    "    wait = WebDriverWait(driver, 10)\n",
    "    driver.set_window_size(width=screenWidth, height=screenHeight)\n",
    "\n",
    "    return driver, wait\n",
    "\n",
    "for i, post in enumerate(post_list):\n",
    "    driver, wait = initiateDriver(post)\n",
    "    fileName = f'screenshots/post-{i}'\n",
    "    os.mkdir(fileName)\n",
    "    prefix = f'{fileName}/main'\n",
    "    post_id = f\"t3_{post['id']}\"\n",
    "    takingSS(driver, wait, post_id, prefix)\n",
    "    driver.quit()"
   ]
  },
  {
   "cell_type": "code",
   "execution_count": 13,
   "metadata": {},
   "outputs": [],
   "source": [
    "from PIL import Image, ImageDraw, ImageFont\n",
    "import textwrap\n",
    "\n",
    "def makeScreenShotsForComments(text, path, font_size = 14):\n",
    "    font_color = (0, 0, 0)  # RGB color for the font\n",
    "    font_path = \"font\\Roboto-Black.ttf\"  # Replace with the path to your desired font file\n",
    "\n",
    "    # Create a new image with a white background\n",
    "    background_color = (255, 255, 255)  # RGB color for the background\n",
    "    width = 400\n",
    "    padding = 10  # Padding around the text\n",
    "    line_spacing = 4  # Spacing between lines of text\n",
    "\n",
    "    font = ImageFont.truetype(font_path, font_size)\n",
    "    text_lines = textwrap.wrap(text, width=60)  # Adjust the width parameter as desired\n",
    "\n",
    "    # Calculate the height of the image based on the text length\n",
    "    line_height = font.getsize(\"Sample\")[1]\n",
    "    text_height = (line_height + line_spacing) * len(text_lines)\n",
    "    height = text_height + (padding * 2)\n",
    "\n",
    "    image = Image.new(\"RGB\", (width, height), background_color)\n",
    "    draw = ImageDraw.Draw(image)\n",
    "\n",
    "    # Calculate the starting position for the text\n",
    "    text_x = padding\n",
    "    text_y = padding\n",
    "\n",
    "    # Draw the text onto the image\n",
    "    for line in text_lines:\n",
    "        line_width, line_height = font.getsize(line)\n",
    "        draw.text((text_x, text_y), line, font=font, fill=font_color)\n",
    "        text_y += line_height + line_spacing\n",
    "\n",
    "    image.save(f\"{path}.png\")\n",
    "    "
   ]
  },
  {
   "cell_type": "code",
   "execution_count": 14,
   "metadata": {},
   "outputs": [],
   "source": [
    "for i, post in enumerate(post_list):\n",
    "    \n",
    "    for comment in post['comments']:\n",
    "        path = f\"screenshots/post-{i}/comment-{comment['id']}\"\n",
    "        makeScreenShotsForComments(comment['text'], path)\n"
   ]
  },
  {
   "cell_type": "code",
   "execution_count": 15,
   "metadata": {},
   "outputs": [],
   "source": [
    "from moviepy.editor import VideoFileClip, concatenate_videoclips\n",
    "\n",
    "def loopingBgVideo(duration, path):\n",
    "    original_clip = VideoFileClip(path)\n",
    "    subclip = original_clip.subclip(0, 2)\n",
    "    looped_clip = concatenate_videoclips([subclip] * (duration // subclip.duration))\n",
    "    return looped_clip\n"
   ]
  },
  {
   "cell_type": "code",
   "execution_count": 19,
   "metadata": {},
   "outputs": [
    {
     "name": "stdout",
     "output_type": "stream",
     "text": [
      "Moviepy - Building video test-output.mp4.\n",
      "MoviePy - Writing audio in test-outputTEMP_MPY_wvf_snd.mp3\n"
     ]
    },
    {
     "name": "stderr",
     "output_type": "stream",
     "text": [
      "                                                                   \r"
     ]
    },
    {
     "name": "stdout",
     "output_type": "stream",
     "text": [
      "MoviePy - Done.\n",
      "Moviepy - Writing video test-output.mp4\n",
      "\n"
     ]
    },
    {
     "name": "stderr",
     "output_type": "stream",
     "text": [
      "                                                                "
     ]
    },
    {
     "name": "stdout",
     "output_type": "stream",
     "text": [
      "Moviepy - Done !\n",
      "Moviepy - video ready test-output.mp4\n"
     ]
    },
    {
     "name": "stderr",
     "output_type": "stream",
     "text": [
      "\r"
     ]
    }
   ],
   "source": [
    "from moviepy.editor import ImageClip, AudioFileClip, VideoFileClip, CompositeVideoClip\n",
    "import math\n",
    "\n",
    "checked_loop_video = None\n",
    "\n",
    "def createVideoClip(ssFile, voiceFile):\n",
    "    audioClip = AudioFileClip(voiceFile)\n",
    "    imageClip = ImageClip(ssFile).set_duration(audioClip.duration)\n",
    "    videoClip = imageClip.set_audio(audioClip)\n",
    "    return videoClip\n",
    "\n",
    "for i, post in enumerate(post_list):\n",
    "    clips = []\n",
    "    mainPostSS = f\"screenshots/post-{i}/main.png\"\n",
    "    mainPostAudio = f\"VoiceOvers/post-{i}/main.mp3\"\n",
    "    mainPostClip = createVideoClip(mainPostSS, mainPostAudio)\n",
    "\n",
    "    clips.append(mainPostClip)\n",
    "\n",
    "    start_time = mainPostClip.duration  # Set the start time for the next clip\n",
    "\n",
    "    for comment in post['comments']:\n",
    "        pathSS = f\"screenshots/post-{i}/comment-{comment['id']}.png\"\n",
    "        pathAudio = f\"VoiceOvers/post-{i}/comment-{comment['id']}.mp3\"\n",
    "        commentClip = createVideoClip(pathSS, pathAudio)\n",
    "        commentClip = commentClip.set_start(start_time)  # Set the start time for the comment clip\n",
    "        clips.append(commentClip)\n",
    "\n",
    "        start_time += commentClip.duration  # Update the start time for the next clip\n",
    "\n",
    "    # bgIndex = random.randint(1, 4)\n",
    "    bgVideoPath = f\"sampleBgVideo/4.mp4\"\n",
    "    bgClip = None\n",
    "    if checked_loop_video == None:\n",
    "       bgClip = loopingBgVideo(math.ceil(start_time), bgVideoPath)\n",
    "       checked_loop_video = True\n",
    "\n",
    "    # Calculate the center position of the background clip\n",
    "    bg_center_x = bgClip.w / 2\n",
    "    bg_center_y = bgClip.h / 2\n",
    "\n",
    "    # Adjust the position of each clip to center them on the background clip\n",
    "    for clip in clips:\n",
    "        clip_center_x = clip.w / 2\n",
    "        clip_center_y = clip.h / 2\n",
    "        clip = clip.set_position((bg_center_x - clip_center_x, bg_center_y - clip_center_y))\n",
    "\n",
    "    finalVideo = CompositeVideoClip(clips=[bgClip] + clips)\n",
    "\n",
    "    # outputFile = f\"finalVideo/reel-{i}.mp4\"\n",
    "    outputFile = 'test-output.mp4'\n",
    "    finalVideo.write_videofile(outputFile, codec='mpeg4', threads=12, bitrate='8000k')\n",
    "\n",
    "    break\n"
   ]
  },
  {
   "cell_type": "code",
   "execution_count": 20,
   "metadata": {},
   "outputs": [
    {
     "name": "stdout",
     "output_type": "stream",
     "text": [
      "Moviepy - Building video test-output.mp4.\n",
      "MoviePy - Writing audio in test-outputTEMP_MPY_wvf_snd.mp3\n"
     ]
    },
    {
     "name": "stderr",
     "output_type": "stream",
     "text": [
      "                                                                   \r"
     ]
    },
    {
     "name": "stdout",
     "output_type": "stream",
     "text": [
      "MoviePy - Done.\n",
      "Moviepy - Writing video test-output.mp4\n",
      "\n"
     ]
    },
    {
     "name": "stderr",
     "output_type": "stream",
     "text": [
      "                                                                \r"
     ]
    },
    {
     "name": "stdout",
     "output_type": "stream",
     "text": [
      "Moviepy - Done !\n",
      "Moviepy - video ready test-output.mp4\n",
      "Moviepy - Building video test-output.mp4.\n",
      "MoviePy - Writing audio in test-outputTEMP_MPY_wvf_snd.mp3\n"
     ]
    },
    {
     "name": "stderr",
     "output_type": "stream",
     "text": [
      "                                                                   \r"
     ]
    },
    {
     "name": "stdout",
     "output_type": "stream",
     "text": [
      "MoviePy - Done.\n",
      "Moviepy - Writing video test-output.mp4\n",
      "\n"
     ]
    },
    {
     "name": "stderr",
     "output_type": "stream",
     "text": [
      "                                                                \r"
     ]
    },
    {
     "name": "stdout",
     "output_type": "stream",
     "text": [
      "Moviepy - Done !\n",
      "Moviepy - video ready test-output.mp4\n"
     ]
    }
   ],
   "source": [
    "from moviepy.editor import ImageClip, AudioFileClip, VideoFileClip, CompositeVideoClip\n",
    "import math\n",
    "\n",
    "checked_loop_video = None\n",
    "\n",
    "def createVideoClip(ssFile, voiceFile):\n",
    "    audioClip = AudioFileClip(voiceFile)\n",
    "    imageClip = ImageClip(ssFile).set_duration(audioClip.duration)\n",
    "    videoClip = imageClip.set_audio(audioClip)\n",
    "    return videoClip\n",
    "\n",
    "for i, post in enumerate(post_list):\n",
    "    clips = []\n",
    "    mainPostSS = f\"screenshots/post-{i}/main.png\"\n",
    "    mainPostAudio = f\"VoiceOvers/post-{i}/main.mp3\"\n",
    "    mainPostClip = createVideoClip(mainPostSS, mainPostAudio)\n",
    "\n",
    "    clips.append(mainPostClip)\n",
    "\n",
    "    start_time = mainPostClip.duration  # Set the start time for the next clip\n",
    "\n",
    "    for comment in post['comments']:\n",
    "        pathSS = f\"screenshots/post-{i}/comment-{comment['id']}.png\"\n",
    "        pathAudio = f\"VoiceOvers/post-{i}/comment-{comment['id']}.mp3\"\n",
    "        commentClip = createVideoClip(pathSS, pathAudio)\n",
    "        commentClip = commentClip.set_start(start_time)  # Set the start time for the comment clip\n",
    "        clips.append(commentClip)\n",
    "\n",
    "        start_time += commentClip.duration  # Update the start time for the next clip\n",
    "\n",
    "    # bgIndex = random.randint(1, 4)\n",
    "    bgVideoPath = f\"sampleBgVideo/4.mp4\"\n",
    "    bgClip = None\n",
    "    if checked_loop_video is None:\n",
    "        bgClip = loopingBgVideo(math.ceil(start_time), bgVideoPath)\n",
    "        checked_loop_video = True\n",
    "\n",
    "    # Calculate the center position of the background clip\n",
    "    bg_center_x = bgClip.w / 2\n",
    "    bg_center_y = bgClip.h / 2\n",
    "\n",
    "    # Adjust the position of each clip to center them on the background clip\n",
    "    for idx, clip in enumerate(clips):\n",
    "        clip_center_x = clip.w / 2\n",
    "        clip_center_y = clip.h / 2\n",
    "        clips[idx] = clip.set_position((bg_center_x - clip_center_x, bg_center_y - clip_center_y))\n",
    "\n",
    "    finalVideo = CompositeVideoClip(clips=[bgClip] + clips)\n",
    "\n",
    "    # outputFile = f\"finalVideo/reel-{i}.mp4\"\n",
    "    outputFile = 'test-output.mp4'\n",
    "    finalVideo.write_videofile(outputFile, codec='mpeg4', threads=12, bitrate='8000k')\n",
    "\n",
    "    break\n",
    "from moviepy.editor import ImageClip, AudioFileClip, VideoFileClip, CompositeVideoClip\n",
    "import math\n",
    "\n",
    "checked_loop_video = None\n",
    "\n",
    "def createVideoClip(ssFile, voiceFile):\n",
    "    audioClip = AudioFileClip(voiceFile)\n",
    "    imageClip = ImageClip(ssFile).set_duration(audioClip.duration)\n",
    "    videoClip = imageClip.set_audio(audioClip)\n",
    "    return videoClip\n",
    "\n",
    "for i, post in enumerate(post_list):\n",
    "    clips = []\n",
    "    mainPostSS = f\"screenshots/post-{i}/main.png\"\n",
    "    mainPostAudio = f\"VoiceOvers/post-{i}/main.mp3\"\n",
    "    mainPostClip = createVideoClip(mainPostSS, mainPostAudio)\n",
    "\n",
    "    clips.append(mainPostClip)\n",
    "\n",
    "    start_time = mainPostClip.duration  # Set the start time for the next clip\n",
    "\n",
    "    for comment in post['comments']:\n",
    "        pathSS = f\"screenshots/post-{i}/comment-{comment['id']}.png\"\n",
    "        pathAudio = f\"VoiceOvers/post-{i}/comment-{comment['id']}.mp3\"\n",
    "        commentClip = createVideoClip(pathSS, pathAudio)\n",
    "        commentClip = commentClip.set_start(start_time)  # Set the start time for the comment clip\n",
    "        clips.append(commentClip)\n",
    "\n",
    "        start_time += commentClip.duration  # Update the start time for the next clip\n",
    "\n",
    "    # bgIndex = random.randint(1, 4)\n",
    "    bgVideoPath = f\"sampleBgVideo/4.mp4\"\n",
    "    bgClip = None\n",
    "    if checked_loop_video is None:\n",
    "        bgClip = loopingBgVideo(math.ceil(start_time), bgVideoPath)\n",
    "        checked_loop_video = True\n",
    "\n",
    "    # Calculate the center position of the background clip\n",
    "    bg_center_x = bgClip.w / 2\n",
    "    bg_center_y = bgClip.h / 2\n",
    "\n",
    "    # Adjust the position of each clip to center them on the background clip\n",
    "    for idx, clip in enumerate(clips):\n",
    "        clip_center_x = clip.w / 2\n",
    "        clip_center_y = clip.h / 2\n",
    "        clips[idx] = clip.set_position((bg_center_x - clip_center_x, bg_center_y - clip_center_y))\n",
    "\n",
    "    finalVideo = CompositeVideoClip(clips=[bgClip] + clips)\n",
    "\n",
    "    # outputFile = f\"finalVideo/reel-{i}.mp4\"\n",
    "    outputFile = 'test-output.mp4'\n",
    "    finalVideo.write_videofile(outputFile, codec='mpeg4', threads=12, bitrate='8000k')\n",
    "\n",
    "    break\n"
   ]
  },
  {
   "cell_type": "code",
   "execution_count": null,
   "metadata": {},
   "outputs": [],
   "source": []
  }
 ],
 "metadata": {
  "kernelspec": {
   "display_name": "space",
   "language": "python",
   "name": "python3"
  },
  "language_info": {
   "codemirror_mode": {
    "name": "ipython",
    "version": 3
   },
   "file_extension": ".py",
   "mimetype": "text/x-python",
   "name": "python",
   "nbconvert_exporter": "python",
   "pygments_lexer": "ipython3",
   "version": "3.9.2"
  },
  "orig_nbformat": 4
 },
 "nbformat": 4,
 "nbformat_minor": 2
}
